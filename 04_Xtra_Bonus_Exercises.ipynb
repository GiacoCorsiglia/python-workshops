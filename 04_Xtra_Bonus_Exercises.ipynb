{
 "cells": [
  {
   "cell_type": "markdown",
   "metadata": {},
   "source": [
    "# Bonus Review Exercises\n",
    "\n",
    "\n",
    "## Exercise 1\n",
    "\n",
    "Write a function that computes the correlation coefficient \n",
    "\n",
    "$$ c = \\frac{\\Sigma_i a_i*b_i - N\\bar{A}\\bar{B}}{N\\sigma_A\\sigma_B}$$\n",
    "\n",
    "between the elements of two, equal length lists.\n"
   ]
  },
  {
   "cell_type": "code",
   "execution_count": 3,
   "metadata": {},
   "outputs": [],
   "source": [
    "import numpy as np\n",
    "import matplotlib.pyplot as plt"
   ]
  },
  {
   "cell_type": "code",
   "execution_count": null,
   "metadata": {},
   "outputs": [],
   "source": [
    "def correlation_coeff():\n",
    "    '''\n",
    "    \n",
    "    Inputs:\n",
    "    \n",
    "    Outputs:\n",
    "    \n",
    "    '''"
   ]
  },
  {
   "cell_type": "markdown",
   "metadata": {},
   "source": [
    "## Exercise 2\n",
    "\n",
    "a) Make a numpy array of 100 random numbers between 0 and 1 (from a constant distribution).\n",
    "\n",
    "b) Make a numpy array of 100 random numbers between 0 and 1 (from a normal distribution centered at zero).\n",
    "\n",
    "c) Make a numpy array of 100 numbers that increase linearly from 0 to 1 (hint: use np.arange(???))\n",
    "\n",
    "d) Add arrays from part B and part C into a new array.\n",
    "\n",
    "d) Create a scatter plot (plt.scatter()) with the list in part D and the array from part C. Use your correlation functions to compute the correlation between these two arrays.\n",
    "\n",
    "e) Create a histogram (plt.hist()) with the array from part B"
   ]
  },
  {
   "cell_type": "code",
   "execution_count": 9,
   "metadata": {},
   "outputs": [],
   "source": [
    "array_A =\n",
    "\n",
    "array_B =\n",
    "\n",
    "array_C =\n",
    "\n",
    "array_D ="
   ]
  },
  {
   "cell_type": "markdown",
   "metadata": {},
   "source": [
    "## Exercise 3\n",
    "\n",
    "Make a plot of $\\sin(2\\pix)$ from -1 to 1. (hint: use np.linspace() to create an array of values for $x$). Then add a legend."
   ]
  },
  {
   "cell_type": "code",
   "execution_count": null,
   "metadata": {},
   "outputs": [],
   "source": []
  },
  {
   "cell_type": "markdown",
   "metadata": {},
   "source": [
    "## Exercise 4\n",
    "\n",
    "a) Use the function np.random.randn() to create a 10x10 array of random numbers.\n",
    "\n",
    "b) Use plt.matshow() to make a plot of this matrix.\n",
    "\n",
    "FYI, the default color palatte in matplotlib is called [Viridis](https://cran.r-project.org/web/packages/viridis/vignettes/intro-to-viridis.html). This color scale is designed to be:\n",
    "\n",
    "   - Colorful, spanning as wide a palette as possible so as to make differences easy to see,\n",
    "   - Perceptually uniform, meaning that values close to each other have similar-appearing colors and values far away        from each other have more different-appearing colors, consistently across the range of values,\n",
    "   - Robust to colorblindness, so that the above properties hold true for people with common forms of colorblindness,      as well as in grey scale printing, and\n",
    "   - Pretty, oh so pretty\n"
   ]
  },
  {
   "cell_type": "code",
   "execution_count": null,
   "metadata": {},
   "outputs": [],
   "source": []
  }
 ],
 "metadata": {
  "kernelspec": {
   "display_name": "Python 3",
   "language": "python",
   "name": "python3"
  },
  "language_info": {
   "codemirror_mode": {
    "name": "ipython",
    "version": 3
   },
   "file_extension": ".py",
   "mimetype": "text/x-python",
   "name": "python",
   "nbconvert_exporter": "python",
   "pygments_lexer": "ipython3",
   "version": "3.7.6"
  }
 },
 "nbformat": 4,
 "nbformat_minor": 4
}
