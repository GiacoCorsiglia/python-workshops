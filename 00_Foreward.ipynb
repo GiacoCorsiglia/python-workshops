{
 "cells": [
  {
   "cell_type": "markdown",
   "metadata": {},
   "source": [
    "# A Few Brief Thoughts About Programming\n",
    "\n",
    "Programming languages bridge between abstract human thought and precise instructions for computer proccessors.  Different progamming languages sit at different points along the spectrum between those extremes.  The \"lowest-level\" languages provide the progammer direct control over the computer's hardware, essentially allowing you to say things along the lines of \"toggle these volages in this circuit.\"\n",
    "\n",
    "Python is a \"high level\" language.  Consider the following snippet of Python code, which represents the abstract idea, \"sum the squares of the even numbers between 0 and 10\":"
   ]
  },
  {
   "cell_type": "code",
   "execution_count": 6,
   "metadata": {},
   "outputs": [
    {
     "output_type": "execute_result",
     "data": {
      "text/plain": "220"
     },
     "metadata": {},
     "execution_count": 6
    }
   ],
   "source": [
    "sum([x**2 for x in range(0, 11) if x % 2 == 0])"
   ]
  },
  {
   "cell_type": "markdown",
   "metadata": {},
   "source": [
    "> `220` is the computed answer—this document is written in a format called a \"Jupyter Notebook,\" which contains both prose (like this) and executable code plus its result (like above).  When opened in the free Jupyter software, the code can be edited and re-executed.  (The prose can be edited too.)\n",
    "\n",
    "Even without any knowledge of Python, I bet you could guess at some of what the code is doing.  The control that lower level languages provide is sometimes necessary, but for most purposes you'll probably prefer a language like Python that allows you to succintly express higher level ideas.\n",
    "\n",
    "Regardless of how expressive your programming language is, however, you can't escape the fact that human thought is often ambiguous, non-linear, and contextual, while computers require exact and linear instructions.\n",
    "\n",
    "Consider the English-language description of the above example.  Does \"numbers between 0 and 10\" include or exclude 0 and 10?  Moreover, does \"numbers\" mean \"real numbers\" or \"integers?\"  In Python, `range(0, 11)` explicitly means the set of integers from 0 to 10, inclusive. Of course, \"_even_ numbers\" implies integers—but in the code snippet we have to define \"even\" as a number that has 0 remainder when divided by 2 (`x % 2 == 0`).\n",
    "\n",
    "Learning to program includes two fundamental elements.  The first is akin to grammar, and the second to vocabulary.\n",
    "\n",
    "First, you must develop the ability to convert your abstract thoughts into precise computer instructions.  This is a general skil, and applying it will often help you quickly nail down ambiguities in your approach to a problem.  For example, when using Python for data analysis, you will be forced to decide upfront how you handle missing data points.\n",
    "\n",
    "Your programming language provides basic building blocks for converting your thoughts to instructions, such as variables, conditionals, functions, etc., as well as syntax for these things.  Although different languages provide different sets of building blocks with different semantics (how they work) and syntax (how they are written in code), most are fairly similar, meaning your second programming language will probably be much easier to learn than your first!  A strong conceptual understanding of these building blocks will support you whenever you need to apply programming to new problems.\n",
    "\n",
    "Second, you'll have to learn lots of vocabulary  Vocabulary is idiosyncratic to your programminig language of choice, or to the libraries/packages you choose to work with.  (Often you will use libraries/packages of code that others have published to do common tasks like computing statistical quantities or creating plots.)  The `sum(...)` function used above is an example of Python vocabulary.  Although you will come to memorize commonly used vocabulary, it is much more useful to learn to use Google and read the documentation for Python or libraries to find the vocabulary you need in the moment.  Here is one place that a strong foundational understanding will serve you well.\n",
    "\n",
    "Programming also includes one secondary element: occasionally fighting with your computer to get your code running.  If you've ever had trouble with a LaTeX document that you _swear was working fine yesterday_, you know what I'm talking about.  Computers were built by humans after all.  Don't be daunted by these issues—there's often more rhyme and reason underlying them than it seems.  If a quick Google doesn't fix the issue, just ask someone.  You'll soon find yourself solving more of these problems on your own, and more quickly. \n",
    "\n",
    "Focus on learning the gammar—how to think programmatically and make sense of code.  The rest will come along for the ride."
   ]
  }
 ],
 "metadata": {
  "language_info": {
   "codemirror_mode": {
    "name": "ipython",
    "version": 3
   },
   "file_extension": ".py",
   "mimetype": "text/x-python",
   "name": "python",
   "nbconvert_exporter": "python",
   "pygments_lexer": "ipython3",
   "version": "3.7.4-final"
  },
  "orig_nbformat": 2,
  "kernelspec": {
   "name": "python37464bitbasecondabeb2e11ebe3a43d2984ddfc0b70c7575",
   "display_name": "Python 3.7.4 64-bit ('base': conda)"
  }
 },
 "nbformat": 4,
 "nbformat_minor": 2
}