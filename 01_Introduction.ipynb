{
 "cells": [
  {
   "cell_type": "markdown",
   "metadata": {},
   "source": [
    "# A Short Overview of Python Basics\n",
    "\n",
    "Python code is comprised of a sequence of **statements**.  Statements are comprised of **expressions**, plus some extra stuff.  We'll start with expressions.\n",
    "\n",
    "## Expressions\n",
    "\n",
    "Good news: you already know what expressions are from math!  Here's an expression from math:\n",
    "\n",
    "$$5.3$$\n",
    "\n",
    "And here's the same expression in Python:"
   ]
  },
  {
   "cell_type": "code",
   "execution_count": 2,
   "metadata": {},
   "outputs": [
    {
     "data": {
      "text/plain": [
       "5.3"
      ]
     },
     "execution_count": 2,
     "metadata": {},
     "output_type": "execute_result"
    }
   ],
   "source": [
    "5.3"
   ]
  },
  {
   "cell_type": "markdown",
   "metadata": {},
   "source": [
    "All expressions evaluate to a **value**.  That's what you see on the line above that starts with `Out[]:`—it shows the value that results from the code from the line that starts with `In []:`.  Obviously, `5.3` \"evaluates\" to the numerical value $5.3$!\n",
    "\n",
    "Python can also do arithmetic, like\n",
    "\n",
    "$$\\frac{3 \\times 4}{2}$$\n",
    "\n",
    "which looks like:"
   ]
  },
  {
   "cell_type": "code",
   "execution_count": 3,
   "metadata": {},
   "outputs": [
    {
     "data": {
      "text/plain": [
       "6.0"
      ]
     },
     "execution_count": 3,
     "metadata": {},
     "output_type": "execute_result"
    }
   ],
   "source": [
    "(3 * 4) / 2"
   ]
  },
  {
   "cell_type": "markdown",
   "metadata": {},
   "source": [
    "That expression is built up from smaller expressions `3`, `4`, and `2`, combined using operators for multiplication and division.  Just like in math, an expression in Python can comprise of artibrarily complicated sub-expersions.  A better example from math might be:\n",
    "\n",
    "$$\n",
    "\\frac{\\int_0^5 x^2 dx}{\\sum_{n=0}^N 1/n^2}\n",
    "$$\n",
    "\n",
    "Considering all the mathematical notation, that's actually a pretty complicated expression!  Fortunately Python's notation (which we call **syntax**) is simpler—you're pretty much limited to the characters you can type with your keyboard.  But remember—expressions are built from smaller expressions!\n",
    "\n",
    "Let's look at some other expressions in Python.\n",
    "\n",
    "**Strings** are a sequence of characters (words, letters, and symbols) enclosed in single or double quotes (it doesn't matter which)."
   ]
  },
  {
   "cell_type": "code",
   "execution_count": 4,
   "metadata": {},
   "outputs": [
    {
     "data": {
      "text/plain": [
       "'Hello!'"
      ]
     },
     "execution_count": 4,
     "metadata": {},
     "output_type": "execute_result"
    }
   ],
   "source": [
    "\"Hello!\""
   ]
  },
  {
   "cell_type": "markdown",
   "metadata": {},
   "source": [
    "Strings can be combined:"
   ]
  },
  {
   "cell_type": "code",
   "execution_count": 5,
   "metadata": {},
   "outputs": [
    {
     "data": {
      "text/plain": [
       "'Hello There'"
      ]
     },
     "execution_count": 5,
     "metadata": {},
     "output_type": "execute_result"
    }
   ],
   "source": [
    "\"Hello\" + \" \" + \"There\""
   ]
  },
  {
   "cell_type": "markdown",
   "metadata": {},
   "source": [
    "Lists are a sequence of values of any kind, separated by commas, and enclosed in square brackets."
   ]
  },
  {
   "cell_type": "code",
   "execution_count": 7,
   "metadata": {},
   "outputs": [
    {
     "data": {
      "text/plain": [
       "[5.3, 6, 'Hello!']"
      ]
     },
     "execution_count": 7,
     "metadata": {},
     "output_type": "execute_result"
    }
   ],
   "source": [
    "[5.3, 6, \"Hello!\"]"
   ]
  },
  {
   "cell_type": "markdown",
   "metadata": {},
   "source": [
    "Expressions are built from smaller expressions, so we can do the following:"
   ]
  },
  {
   "cell_type": "code",
   "execution_count": 8,
   "metadata": {},
   "outputs": [
    {
     "data": {
      "text/plain": [
       "[6.0, 'Hello There']"
      ]
     },
     "execution_count": 8,
     "metadata": {},
     "output_type": "execute_result"
    }
   ],
   "source": [
    "[\n",
    "    (3 * 4) / 2,\n",
    "    \"Hello\" + \" \" + \"There\"\n",
    "]"
   ]
  },
  {
   "cell_type": "markdown",
   "metadata": {},
   "source": [
    "See how the sub-expressions were replaced by the values they evaluated to?  Note that it's also valid to break a list into multiple lines—Python doesn't care!\n",
    "\n",
    "There are some other **data types** in Python.  We'll talk more about them later, but you should know the following two.\n",
    "\n",
    "The **None** type is written as follows, and it indicates the absence of any value:"
   ]
  },
  {
   "cell_type": "code",
   "execution_count": 11,
   "metadata": {},
   "outputs": [],
   "source": [
    "None"
   ]
  },
  {
   "cell_type": "markdown",
   "metadata": {},
   "source": [
    "See how that line of code doesn't evaluate to anything?\n",
    "\n",
    "The **Boolean** type has two possible values, `True` or `False`.\n",
    "\n",
    "The next important type of expression is **Function evaluation**.  This should also be familiar from math!\n",
    "\n",
    "$$\n",
    "f(5.3)\n",
    "$$\n",
    "\n",
    "can be written just the same in Python:"
   ]
  },
  {
   "cell_type": "code",
   "execution_count": 12,
   "metadata": {},
   "outputs": [
    {
     "ename": "NameError",
     "evalue": "name 'f' is not defined",
     "output_type": "error",
     "traceback": [
      "\u001b[0;31m---------------------------------------------------------------------------\u001b[0m",
      "\u001b[0;31mNameError\u001b[0m                                 Traceback (most recent call last)",
      "\u001b[0;32m<ipython-input-12-40ed2bf84cd7>\u001b[0m in \u001b[0;36m<module>\u001b[0;34m\u001b[0m\n\u001b[0;32m----> 1\u001b[0;31m \u001b[0mf\u001b[0m\u001b[0;34m(\u001b[0m\u001b[0;36m5.3\u001b[0m\u001b[0;34m)\u001b[0m\u001b[0;34m\u001b[0m\u001b[0;34m\u001b[0m\u001b[0m\n\u001b[0m",
      "\u001b[0;31mNameError\u001b[0m: name 'f' is not defined"
     ]
    }
   ],
   "source": [
    "f(5.3)"
   ]
  },
  {
   "cell_type": "markdown",
   "metadata": {},
   "source": [
    "Hey look, we got an **Error**.  That's because there is no function built into Python called `f()`.  We'll learn how to define functions later, but here's a working example:"
   ]
  },
  {
   "cell_type": "code",
   "execution_count": 13,
   "metadata": {},
   "outputs": [
    {
     "data": {
      "text/plain": [
       "3"
      ]
     },
     "execution_count": 13,
     "metadata": {},
     "output_type": "execute_result"
    }
   ],
   "source": [
    "len([5.3, 6, \"Hello\"])"
   ]
  },
  {
   "cell_type": "markdown",
   "metadata": {},
   "source": [
    "The `len()` function gives the number of elements in a List.  Remember, it's totally valid to do something goofy like:"
   ]
  },
  {
   "cell_type": "code",
   "execution_count": null,
   "metadata": {},
   "outputs": [],
   "source": [
    "len([5.3, 6, \"Hello\", len([\"Hi\", \"There\"])])"
   ]
  },
  {
   "cell_type": "markdown",
   "metadata": {},
   "source": [
    "What will that evaluate to?"
   ]
  },
  {
   "cell_type": "markdown",
   "metadata": {},
   "source": [
    "## Statements\n",
    "\n",
    "Expressions are great and all, but what can we do with them?!  We can combine them to form statements!  Whereas expressions evaluate to a single value (sometimes with \"side effects\"), a statement's only purpose is to _do something_.\n",
    "\n",
    "Outside of proofs, the only type of statement you see in math is an equation, like $x^2 - 4 = 0$.  Both sides are expressions, but when combined with the equals sign they become a statement of equality.  Python has something that looks somewhat similar but is totally different..."
   ]
  },
  {
   "cell_type": "markdown",
   "metadata": {},
   "source": [
    "### Variables\n",
    "\n",
    "Variables can be thought of in two ways. First, variables assign a name to an expression.  You do so using the equals sign:"
   ]
  },
  {
   "cell_type": "code",
   "execution_count": 14,
   "metadata": {},
   "outputs": [],
   "source": [
    "my_variable = 5.3"
   ]
  },
  {
   "cell_type": "markdown",
   "metadata": {},
   "source": [
    "Notice how this **statement** didn't evaluate to anything?  But now I can refer to `my_variable` in a new expression:"
   ]
  },
  {
   "cell_type": "code",
   "execution_count": 15,
   "metadata": {},
   "outputs": [
    {
     "data": {
      "text/plain": [
       "5.3"
      ]
     },
     "execution_count": 15,
     "metadata": {},
     "output_type": "execute_result"
    }
   ],
   "source": [
    "my_variable"
   ]
  },
  {
   "cell_type": "markdown",
   "metadata": {},
   "source": [
    "So, we have **assigned** a name to the value `5.3`, which we can refer to later.  So far that's pretty much what we do in math—we might write \"let $x = 5.3$\".  But this next part doesn't make sense from a math perspective:"
   ]
  },
  {
   "cell_type": "code",
   "execution_count": 16,
   "metadata": {},
   "outputs": [],
   "source": [
    "my_variable = (3 * 4) / 2"
   ]
  },
  {
   "cell_type": "code",
   "execution_count": 17,
   "metadata": {},
   "outputs": [
    {
     "data": {
      "text/plain": [
       "6.0"
      ]
     },
     "execution_count": 17,
     "metadata": {},
     "output_type": "execute_result"
    }
   ],
   "source": [
    "my_variable"
   ]
  },
  {
   "cell_type": "markdown",
   "metadata": {},
   "source": [
    "In Python, unlike in math, you can assign a new value to a variable!  `my_variable` _was_ `5.3` but now it's `6.0`!  This is a rather useful feature, even if it seems weird."
   ]
  },
  {
   "cell_type": "markdown",
   "metadata": {},
   "source": [
    "### For Loops\n",
    "\n",
    "A **For Loop** is a totally different type of statement.  It's called a **Control Flow** statement because it \"controls the flow\" of your program.  Let's just look at an example."
   ]
  },
  {
   "cell_type": "code",
   "execution_count": 20,
   "metadata": {},
   "outputs": [
    {
     "name": "stdout",
     "output_type": "stream",
     "text": [
      "number: 1\n",
      "times_two: 2\n",
      "number: 2\n",
      "times_two: 4\n",
      "number: 3\n",
      "times_two: 6\n"
     ]
    }
   ],
   "source": [
    "my_list = [1, 2, 3]\n",
    "\n",
    "for number in my_list:\n",
    "    print(\"number:\", number)\n",
    "    \n",
    "    times_two = number * 2\n",
    "    \n",
    "    print(\"times_two:\", times_two)"
   ]
  },
  {
   "cell_type": "markdown",
   "metadata": {},
   "source": [
    "> The `print()` function outputs the value you pass to it—it \"prints\" it on the screen.\n",
    "\n",
    "The for loop is structured like this:\n",
    "\n",
    "```\n",
    "for <New Variable> in <List>:\n",
    "    <Body: sequence of statements that will be executed\n",
    "     once per element in the list.>\n",
    "```\n",
    "\n",
    "The \"Body\" of the loop must be indented!  Customarily by 4 spaces (which is what you'll get if you hit the Tab key on your keyboard).  You an put as many statements in the for loop as you like!"
   ]
  },
  {
   "cell_type": "markdown",
   "metadata": {},
   "source": [
    "## Exercises\n",
    "\n",
    "Here's some (real PER) data, let's compute some things!"
   ]
  },
  {
   "cell_type": "code",
   "execution_count": 21,
   "metadata": {},
   "outputs": [],
   "source": [
    "weekly_avg = [\n",
    "    3.739130435, 4.565217391, 3.956521739, 3.772727273,\n",
    "    3.260869565, 3.6, 3.7, 3.954545455, 3.727272727,\n",
    "    3.954545455, 3.571428571, 4.166666667\n",
    "]\n",
    "\n",
    "scores1 = [\n",
    "    [7, 7, 5, 4, 5, 7, 7, 9, 6, 9, 8, 8],\n",
    "    [6, 4, 4, 4, 3, 2, 3, 3, 2, 1, 2, 2],\n",
    "    [3, 4, 5, 2, 0, 3, 6, 0, 2, 4, 4, 5],\n",
    "    [0, 5, 5, 6, 7, 6, 6, 4, 5, 5, 7, 7],\n",
    "    [6, 2, 1, 2, 3, 3, 2, 4, 2, 4, 4, 4],\n",
    "    [5, 5, 6, 7, 5, 3, 5, 5, 5, 8, 6, 5],\n",
    "    [5, 5, 5, 7, 4, 4, 0, 4, 10, 5, 1, 2],\n",
    "    [5, 5, 5, 4, 5, 0, 0, 5, 5, 5, 5, 0],\n",
    "    [2, 0, 2, 0, 2, 3, 0, 0, 1, 1, 1, 3],\n",
    "    [0, 1, 2, 2, 2, 3, 0, 4, 4, 2, 0, 0],\n",
    "    [3, 7, 6, 10, 0, 5, 5, 7, 7, 7, 7, 8],\n",
    "]\n",
    "\n",
    "scores2 = [\n",
    "    [7, 7, 5, 4, 5, 7, 7, 9, 6, 9, 8, 8],\n",
    "    [6, 4, 4, 4, 3, 2, 3, 3, 2, 1, 2, 2],\n",
    "    [3, 4, 5, 2, 0, 3, 6, 0, 2, 4, 4, 5],\n",
    "    [7, 7, 4, None, 7, 5, 6, None, 6, None, None, None],\n",
    "    [0, 5, 5, 6, 7, 6, 6, 4, 5, 5, 7, 7],\n",
    "    [4, 7, 7, 5, 6, 5, None, 8, 5, 5, 5, 7],\n",
    "    [5, 5, 5, 5, None, 5, 5, 5, 5, 5, 5, 5],\n",
    "    [6, 2, 1, 2, 3, 3, 2, 4, 2, 4, 4, 4],\n",
    "    [3, 5, 4, 2, 3, 4, None, 5, 0, 5, None, None],\n",
    "    [0, 0, None, None, 0, 0, None, None, None, None, 0, 0],\n",
    "    [5, 5, 6, 7, 5, 3, 5, 5, 5, 8, 6, 5],\n",
    "    [4, 4, None, 0, 0, 2, None, 3, None, 0, 0, 0],\n",
    "    [5, 5, 5, 7, 4, 4, 0, 4, 10, 5, 1, 2],\n",
    "    [5, 5, 5, 4, 5, 0, 0, 5, 5, 5, 5, 0],\n",
    "    [2, 0, 2, 0, 2, 3, 0, 0, 1, 1, 1, 3],\n",
    "    [4, 6, 6, 4, 4, 4, 6, 3, 3, 3, None, 8],\n",
    "    [0, 5, 5, 5, None, None, 5, None, None, None, 5, None],\n",
    "    [1, 6, 3, 2, 1, 2, 3, 4, 3, 3, 2, None],\n",
    "    [0, 1, 2, 2, 2, 3, 0, 4, 4, 2, 0, 0],\n",
    "    [7, 5, 4, 2, 2, 2, 1, 2, 1, 2, 2, None],\n",
    "    [3, 7, 6, 10, 0, 5, 5, 7, 7, 7, 7, 8],\n",
    "    [4, 5, 0, None, 4, 2, None, 2, 3, 3, None, 5],\n",
    "    [5, 5, 1, 0, 5, 5, 2, 5, 0, 0, 0, None],\n",
    "    [None, None, None, None, None, 8, None, None, None, None, None, None],\n",
    "    [None, None, 4, 2, 2, 0, 4, 5, 4, 5, 4, 6],\n",
    "    [None, None, 2, 8, 5, 7, 8, 0, 3, 5, 7, None],\n",
    "]"
   ]
  },
  {
   "cell_type": "markdown",
   "metadata": {},
   "source": [
    "### 1\n",
    "\n",
    "Write a for loop to compute the sum of the numbers in the `weekly_avg` list.  I'll get you started."
   ]
  },
  {
   "cell_type": "code",
   "execution_count": 24,
   "metadata": {},
   "outputs": [
    {
     "name": "stdout",
     "output_type": "stream",
     "text": [
      "0\n"
     ]
    }
   ],
   "source": [
    "total = 0\n",
    "\n",
    "for avg in weekly_avg:\n",
    "    # Fix the next line!\n",
    "    total = 0    \n",
    "    \n",
    "print(total)"
   ]
  },
  {
   "cell_type": "markdown",
   "metadata": {},
   "source": [
    "Here's the answer!  Python has a built-in function called `sum()` that will do this for you."
   ]
  },
  {
   "cell_type": "code",
   "execution_count": 22,
   "metadata": {},
   "outputs": [
    {
     "data": {
      "text/plain": [
       "45.968925278"
      ]
     },
     "execution_count": 22,
     "metadata": {},
     "output_type": "execute_result"
    }
   ],
   "source": [
    "sum(weekly_avg)"
   ]
  },
  {
   "cell_type": "markdown",
   "metadata": {},
   "source": [
    "### 2\n",
    "\n",
    "Calculate the overall average of the `weekly_avg` List.  The answer is around `3.8`."
   ]
  },
  {
   "cell_type": "code",
   "execution_count": 26,
   "metadata": {},
   "outputs": [],
   "source": [
    " # Your code here."
   ]
  },
  {
   "cell_type": "markdown",
   "metadata": {},
   "source": [
    "### 3\n",
    "\n",
    "Calculate the standard deviation of the `weekly_avg` List.  The formula is:\n",
    "\n",
    "$$\n",
    "\\sqrt{\\frac{\\sum_{i=1}^N (x_i - \\bar{x})^2}{N}}\n",
    "$$\n",
    "\n",
    "where $\\bar{x}$ is the overall average.  The answer is about `0.31`."
   ]
  },
  {
   "cell_type": "code",
   "execution_count": 31,
   "metadata": {},
   "outputs": [],
   "source": [
    "# Your code here."
   ]
  },
  {
   "cell_type": "markdown",
   "metadata": {},
   "source": [
    "### 4\n",
    "\n",
    "Produce a new List from the two-dimensional `scores1` List that holds the sum of each row.  The answer is:\n",
    "\n",
    "```\n",
    "[82, 36, 38, 63, 37, 65, 52, 44, 15, 20, 72]\n",
    "```\n",
    "\n",
    "where\n",
    "\n",
    "```\n",
    "82 = sum([7, 7, 5, 4, 5, 7, 7, 9, 6, 9, 8, 8])\n",
    "```\n",
    "\n",
    "You can create a new empty list by writing `my_list = []`.  You can add elements to that list by writing:\n",
    "\n",
    "```\n",
    "my_list.append(<expression>)\n",
    "```"
   ]
  },
  {
   "cell_type": "code",
   "execution_count": 34,
   "metadata": {},
   "outputs": [],
   "source": [
    "# Your code here."
   ]
  },
  {
   "cell_type": "markdown",
   "metadata": {},
   "source": [
    "### 5\n",
    "\n",
    "Repeat exercise 4 but use the `scores2` variable.  You'll have to handle the `None` values somehow.  Real-world data usually mas missing data points!"
   ]
  },
  {
   "cell_type": "code",
   "execution_count": 35,
   "metadata": {},
   "outputs": [],
   "source": [
    "# Your code here."
   ]
  },
  {
   "cell_type": "code",
   "execution_count": null,
   "metadata": {},
   "outputs": [],
   "source": []
  }
 ],
 "metadata": {
  "kernelspec": {
   "display_name": "Python 3",
   "language": "python",
   "name": "python3"
  },
  "language_info": {
   "codemirror_mode": {
    "name": "ipython",
    "version": 3
   },
   "file_extension": ".py",
   "mimetype": "text/x-python",
   "name": "python",
   "nbconvert_exporter": "python",
   "pygments_lexer": "ipython3",
   "version": "3.7.4"
  }
 },
 "nbformat": 4,
 "nbformat_minor": 2
}
