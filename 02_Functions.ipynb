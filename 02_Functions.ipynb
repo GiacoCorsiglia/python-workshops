{
 "cells": [
  {
   "cell_type": "markdown",
   "metadata": {},
   "source": [
    "# Functions\n",
    "\n",
    "Generally in computer programming, there are *objects* which are 'things' and there are *functions* that perform actions.*\n",
    "\n",
    "\n",
    "In math, a function is something that takes inputs, and generates an output. In python, the idea of a function is similar except that in python functions can sometimes take no inputs, take a variety of inputs, or not generate an output (and \n",
    "instead only *does* something.\n",
    "\n",
    "\\* _technically_ **everything** in python is an object, but we'll get to that later.\n",
    "\n",
    "## Built-In Functions\n",
    "\n",
    "We've already seen some functions that are built-in to python. They perform convenient actions that you might otherwise have to tell the comupter how to do yourself by writing your own code.\n",
    "\n",
    "Three of these are:\n",
    "\n",
    "* print()\n",
    "* len()\n",
    "* sum()\n",
    "\n",
    "Here is a link to a list of python built-in functions: https://docs.python.org/3/library/functions.html\n",
    "\n",
    "Lets take a look at the max() and sorted() function:"
   ]
  },
  {
   "cell_type": "code",
   "execution_count": 1,
   "metadata": {},
   "outputs": [
    {
     "name": "stdout",
     "output_type": "stream",
     "text": [
      "25\n",
      "[1, 3, 5, 6, 6, 8, 13, 14, 20, 25]\n",
      "[5, 8, 1, 6, 3, 14, 6, 20, 13, 25]\n"
     ]
    }
   ],
   "source": [
    "my_list = [5, 8, 1, 6, 3, 14, 6, 20, 13, 25]\n",
    "\n",
    "print(max(my_list))\n",
    "\n",
    "sorted_list = sorted(my_list)\n",
    "print(sorted_list)\n",
    "print(my_list)"
   ]
  },
  {
   "cell_type": "markdown",
   "metadata": {},
   "source": [
    "NOTE: There is also a sort() function in Python, and they handle sorting differently. sorted() returns a NEW, sorted version of your list, so you need a new variable to hold it. sort() modifies your list, destroying the UNsorted version."
   ]
  },
  {
   "cell_type": "markdown",
   "metadata": {},
   "source": [
    "## Writing your own Functions\n",
    "\n",
    "Sometimes we need to write our own function that does something more specific than the built-in functions can do. Or maybe we want to \"wrap\" a built-in function into a something that's more easy to handle or more tailored to what you want to do.\n",
    "\n",
    "### Syntax\n",
    "\n",
    "To DEFine your own function, simply start a line with the keyword def, then give your function a name. You need open and closed parenthesis (and provide handles for anything you *pass* to the function). And finally end the line with a colon. Indent one level, then write the body of your function.\n",
    "\n",
    "The parenthesis after the name of the function indicate that we are dealing with a function, it also provides the place to 'feed' inputs (called *positional arguments*) to your function.\n",
    "\n",
    "Use triple quotes (either single or double) to write a *docstring* that documents your function.\n",
    "\n",
    "FYI: Python has convensions and a styleguide for naming things: see [PEP8 Python Conventions](https://www.python.org/dev/peps/pep-0008/). Generally, though, python is intended to be human readable, so that someone reading your code can quickly get a sense of what you are doing.\n",
    "\n",
    "What do you think this function does?"
   ]
  },
  {
   "cell_type": "code",
   "execution_count": 11,
   "metadata": {},
   "outputs": [],
   "source": [
    "def add(x, y):\n",
    "    '''\n",
    "    Write a docstring to describe this function\n",
    "    '''\n",
    "    return x + y"
   ]
  },
  {
   "cell_type": "code",
   "execution_count": 12,
   "metadata": {},
   "outputs": [
    {
     "data": {
      "text/plain": [
       "9"
      ]
     },
     "execution_count": 12,
     "metadata": {},
     "output_type": "execute_result"
    }
   ],
   "source": [
    "add(4,5)"
   ]
  },
  {
   "cell_type": "code",
   "execution_count": 13,
   "metadata": {},
   "outputs": [
    {
     "name": "stdout",
     "output_type": "stream",
     "text": [
      "Help on function add in module __main__:\n",
      "\n",
      "add(x, y)\n",
      "    Write a docstring to describe this function\n",
      "\n"
     ]
    }
   ],
   "source": [
    "help(add)"
   ]
  },
  {
   "cell_type": "markdown",
   "metadata": {},
   "source": [
    "## Exercise 1:\n",
    "\n",
    "Write a function that takes two integers and returns the larger of the two. Don't forget a docstring!"
   ]
  },
  {
   "cell_type": "code",
   "execution_count": null,
   "metadata": {},
   "outputs": [],
   "source": [
    "# your code here"
   ]
  },
  {
   "cell_type": "markdown",
   "metadata": {},
   "source": [
    "## Exercise :\n",
    "\n",
    "Write a function that takes two lists and checks to see if the lists are permutations of eachother (that is whether they have the same elements regardless of order. *hint*: first check whether the lists have the same length."
   ]
  },
  {
   "cell_type": "code",
   "execution_count": null,
   "metadata": {},
   "outputs": [],
   "source": [
    "# your code here"
   ]
  },
  {
   "cell_type": "markdown",
   "metadata": {},
   "source": [
    "## Notes on Functions\n",
    "\n",
    "* _docstrings_ are used to document functions\n",
    "* _methods_ are functions that specifically act on objects.\n",
    "  * _methods_ are called like this: object.method():\n",
    "  * functions can just be called like: print(), len(), or add()\n",
    "* the things **passed** to functions are called _arguments_\n"
   ]
  },
  {
   "cell_type": "code",
   "execution_count": null,
   "metadata": {},
   "outputs": [],
   "source": []
  },
  {
   "cell_type": "markdown",
   "metadata": {},
   "source": [
    "## Advanced: \\*args  and \\*\\*kwargs\n",
    "\n",
    "For extra flexibility, sometimes you'll want to have a function with some default values set for \n",
    "\n"
   ]
  },
  {
   "cell_type": "markdown",
   "metadata": {},
   "source": []
  },
  {
   "cell_type": "markdown",
   "metadata": {},
   "source": [
    "## Bonus Exercise 1:\n",
    "\n",
    "Write a function that takes an *arbirary* number of integers and adds them together."
   ]
  },
  {
   "cell_type": "code",
   "execution_count": null,
   "metadata": {},
   "outputs": [],
   "source": []
  }
 ],
 "metadata": {
  "kernelspec": {
   "display_name": "Python 3",
   "language": "python",
   "name": "python3"
  },
  "language_info": {
   "codemirror_mode": {
    "name": "ipython",
    "version": 3
   },
   "file_extension": ".py",
   "mimetype": "text/x-python",
   "name": "python",
   "nbconvert_exporter": "python",
   "pygments_lexer": "ipython3",
   "version": "3.7.3"
  }
 },
 "nbformat": 4,
 "nbformat_minor": 2
}
