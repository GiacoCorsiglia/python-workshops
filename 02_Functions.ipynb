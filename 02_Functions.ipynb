{
 "cells": [
  {
   "cell_type": "markdown",
   "metadata": {},
   "source": [
    "# Functions\n",
    "\n",
    "Generally in computer programming, there are **objects** which are \"things\" and there are **functions** that perform actions.\n",
    "\n",
    "In math, a function is something that takes inputs, and generates an output. In python, the idea of a function is similar except that in python functions can sometimes take no inputs, take a variety of inputs, or not generate an output (and instead only *does* something).\n",
    "\n",
    "\n",
    "## Built-In Functions\n",
    "\n",
    "We've already seen some functions that are built-in to python. They perform convenient actions that you might otherwise have to tell the comupter how to do yourself by writing your own code.\n",
    "\n",
    "Three of these are:\n",
    "\n",
    "* `print()`\n",
    "* `len()`\n",
    "* `sum()`\n",
    "\n",
    "Here is a link to a list of python built-in functions: https://docs.python.org/3/library/functions.html\n",
    "\n",
    "As an example, lets take a look at the `max()` and `sorted()` functions:"
   ]
  },
  {
   "cell_type": "code",
   "execution_count": 8,
   "metadata": {},
   "outputs": [
    {
     "name": "stdout",
     "output_type": "stream",
     "text": [
      "[5, 8, 1, 6, 3, 14, 6, 20, 13, 25, 10]\n"
     ]
    }
   ],
   "source": [
    "my_list = [5, 8, 1, 6, 3, 14, 6, 20, 13, 25, 10]\n",
    "print(my_list)"
   ]
  },
  {
   "cell_type": "code",
   "execution_count": 4,
   "metadata": {},
   "outputs": [
    {
     "data": {
      "text/plain": [
       "25"
      ]
     },
     "execution_count": 4,
     "metadata": {},
     "output_type": "execute_result"
    }
   ],
   "source": [
    "max(my_list)"
   ]
  },
  {
   "cell_type": "code",
   "execution_count": 9,
   "metadata": {},
   "outputs": [
    {
     "name": "stdout",
     "output_type": "stream",
     "text": [
      "[1, 3, 5, 6, 6, 8, 10, 13, 14, 20, 25]\n"
     ]
    }
   ],
   "source": [
    "sorted_list = sorted(my_list)\n",
    "print(sorted_list)"
   ]
  },
  {
   "cell_type": "markdown",
   "metadata": {},
   "source": [
    "> There is also a `sort()` function in Python, and it handles sorting differently. `sorted()` returns a *new*, sorted version of your list, so you need a new variable to hold it. `sort()` _modifies_ your list, _destroying_ the *un*sorted version."
   ]
  },
  {
   "cell_type": "markdown",
   "metadata": {},
   "source": [
    "We **call** functions by writing their name—like `max`—followed by parentheses—`()`.  The things that go between the parentheseses are **arguments**.  When we call the function \"max\" by writing `max(my_list)`, we say we **passed** the argument `my_list` to the function `max()`."
   ]
  },
  {
   "cell_type": "markdown",
   "metadata": {},
   "source": [
    "### Multiple Arguments\n",
    "\n",
    "Some functions accept multiple arguments, such as the built-in `range()` function.  Like in normal math notation, we include all arguments between the parentheses, and separate them by commas."
   ]
  },
  {
   "cell_type": "code",
   "execution_count": 16,
   "metadata": {},
   "outputs": [
    {
     "name": "stdout",
     "output_type": "stream",
     "text": [
      "3\n",
      "4\n",
      "5\n",
      "6\n",
      "7\n"
     ]
    }
   ],
   "source": [
    "for n in range(3, 8):\n",
    "    print(n)"
   ]
  },
  {
   "cell_type": "markdown",
   "metadata": {},
   "source": [
    "### Named Arguments\n",
    "\n",
    "You can also include the name of the arguments when passing arguments to a function.  For example, the `sorted()` function accepts an _optional_ argument called `reverse`:"
   ]
  },
  {
   "cell_type": "code",
   "execution_count": 17,
   "metadata": {},
   "outputs": [
    {
     "data": {
      "text/plain": [
       "[1, 3, 5, 6, 6, 8, 10, 13, 14, 20, 25]"
      ]
     },
     "execution_count": 17,
     "metadata": {},
     "output_type": "execute_result"
    }
   ],
   "source": [
    "sorted(my_list)"
   ]
  },
  {
   "cell_type": "code",
   "execution_count": 18,
   "metadata": {},
   "outputs": [
    {
     "data": {
      "text/plain": [
       "[1, 3, 5, 6, 6, 8, 10, 13, 14, 20, 25]"
      ]
     },
     "execution_count": 18,
     "metadata": {},
     "output_type": "execute_result"
    }
   ],
   "source": [
    "sorted(my_list, reverse=False)"
   ]
  },
  {
   "cell_type": "code",
   "execution_count": 19,
   "metadata": {},
   "outputs": [
    {
     "data": {
      "text/plain": [
       "[25, 20, 14, 13, 10, 8, 6, 6, 5, 3, 1]"
      ]
     },
     "execution_count": 19,
     "metadata": {},
     "output_type": "execute_result"
    }
   ],
   "source": [
    "sorted(my_list, reverse=True)"
   ]
  },
  {
   "cell_type": "markdown",
   "metadata": {},
   "source": [
    "You're always allowed to include the name for any argument.  Often functions you use (or write) will be like `sorted()`—they will require one or two mandatory arguments that you will not include the names for, but they will also allow you to specify several optional arguments, which you will include the name for.  For `sorted()`, the `reverse` argument is optional, because it will default to the value of `False` unless you explicitly set it to something."
   ]
  },
  {
   "cell_type": "markdown",
   "metadata": {},
   "source": [
    "## Writing your own Functions\n",
    "\n",
    "Sometimes we need to write our own function that does something more specific than the built-in functions can do. Or maybe we want to \"wrap\" a built-in function into a something that's more easy to handle or more tailored to what you want to do.\n",
    "\n",
    "In fact, this is an extremely useful and common task!\n",
    "\n",
    "### Syntax\n",
    "\n",
    "To DEFine your own function, simply start a line with the keyword `def`, then give your function a name. You need open and closed parenthesis (and provide **argument** names for anything you **pass** to the function). And finally end the line with a colon. Indent one level, then write the body of your function.\n",
    "\n",
    "The parenthesis after the name of the function indicate that we are dealing with a function, it also provides the place to \"feed\" inputs/arguments to your function.\n",
    "\n",
    "What do you think this function does?"
   ]
  },
  {
   "cell_type": "code",
   "execution_count": null,
   "metadata": {},
   "outputs": [],
   "source": [
    "def add(x, y):\n",
    "    return x + y"
   ]
  },
  {
   "cell_type": "code",
   "execution_count": null,
   "metadata": {},
   "outputs": [],
   "source": [
    "add(4, 5)"
   ]
  },
  {
   "cell_type": "markdown",
   "metadata": {},
   "source": [
    "### Let's Talk About `return`\n",
    "\n",
    "In math, a function is always comprised of just one expression (even if it's a piecewise function).  That is, we write something like:\n",
    "\n",
    "$$\n",
    "f(x, y) =  x^2 + xy + y^2\n",
    "$$\n",
    "\n",
    "So we know that $f(1, -1) = 1$.  In programming, we would say \"the function `f()` **returns** the value `-1` when passed the arguments `1, -1`\".  In Python, a function can include multiple lines of code.  When we finally get to the end of the calculation and want to spit out a value that the caller of the function can use, we do so via the `return` statement.  Consider the following example:"
   ]
  },
  {
   "cell_type": "code",
   "execution_count": 22,
   "metadata": {},
   "outputs": [],
   "source": [
    "def my_max(list_of_numbers):\n",
    "    if len(list_of_numbers) == 0:\n",
    "        # If the list is empty, there is no max!\n",
    "        return None\n",
    "    \n",
    "    # I don't need to say `else` here, because once a `return`\n",
    "    # statement is executed, the rest of the function is abandoned.\n",
    "    # The next two lines will only be run if `len(list_of_numbers) != 0`.\n",
    "    \n",
    "    sorted_list = sorted(list_of_numbers, reverse=True)\n",
    "    return sorted_list[0]"
   ]
  },
  {
   "cell_type": "markdown",
   "metadata": {},
   "source": [
    "Now we can use the result of the `my_max()` function in expressions:"
   ]
  },
  {
   "cell_type": "code",
   "execution_count": 23,
   "metadata": {},
   "outputs": [
    {
     "data": {
      "text/plain": [
       "15"
      ]
     },
     "execution_count": 23,
     "metadata": {},
     "output_type": "execute_result"
    }
   ],
   "source": [
    "5 * my_max([1, 3, 2])"
   ]
  },
  {
   "cell_type": "markdown",
   "metadata": {},
   "source": [
    "Notice that it's perfectly normal to have multiple return statements in one function.  Only one return statement will be executed per time the function is called—which one is executed will depend on the logic you have written in the function, and on the arguments passed to the function."
   ]
  },
  {
   "cell_type": "markdown",
   "metadata": {},
   "source": [
    "### Function Arguments\n",
    "\n",
    "In math, in the function $f(x, y) = ...$, we know we can use the variables $x$ and $y$ on the right hand side of the equals sign, and that the variables are placeholders for the actual values that we may pass to the function at a later time.  For example, $f(1, -1)$ means that we are evaluating the function $f$ with $x = 1$ and $y = -1$.  (But it does _not_ mean that $x = 1$ _outside_ the evaluation of the function!)\n",
    "\n",
    "Python works exactly the same way!\n",
    "\n",
    "One extra thing you can do in python is specify a **default** value for an argument.  For example, we saw that the `sorted()` function accepts an optional argument called `reverse`, which has a default value of `False`.  If we made our own `sorted()` function, we could write it like this:"
   ]
  },
  {
   "cell_type": "code",
   "execution_count": null,
   "metadata": {},
   "outputs": [],
   "source": [
    "def sorted(list_to_sort, reverse=False):\n",
    "    # Code to sort things here..."
   ]
  },
  {
   "cell_type": "markdown",
   "metadata": {},
   "source": [
    "The syntax for a default argument value is `<argument name>=<defaualt value>`"
   ]
  },
  {
   "cell_type": "markdown",
   "metadata": {},
   "source": [
    "### Function Names are Just Variables\n",
    "\n",
    "It's useful to know that function names are really just variables that hold your function.  That means that all of the following operations are permitted:"
   ]
  },
  {
   "cell_type": "code",
   "execution_count": 31,
   "metadata": {},
   "outputs": [
    {
     "data": {
      "text/plain": [
       "7"
      ]
     },
     "execution_count": 31,
     "metadata": {},
     "output_type": "execute_result"
    }
   ],
   "source": [
    "def subtract(x, y):\n",
    "    return x - y\n",
    "\n",
    "subtract(10, 3)"
   ]
  },
  {
   "cell_type": "code",
   "execution_count": 32,
   "metadata": {},
   "outputs": [
    {
     "data": {
      "text/plain": [
       "7"
      ]
     },
     "execution_count": 32,
     "metadata": {},
     "output_type": "execute_result"
    }
   ],
   "source": [
    "minus = subtract\n",
    "minus(10, 3)"
   ]
  },
  {
   "cell_type": "code",
   "execution_count": 33,
   "metadata": {},
   "outputs": [
    {
     "name": "stdout",
     "output_type": "stream",
     "text": [
      "15\n"
     ]
    }
   ],
   "source": [
    "subtract = 15\n",
    "print(subtract)"
   ]
  },
  {
   "cell_type": "code",
   "execution_count": 34,
   "metadata": {},
   "outputs": [
    {
     "data": {
      "text/plain": [
       "7"
      ]
     },
     "execution_count": 34,
     "metadata": {},
     "output_type": "execute_result"
    }
   ],
   "source": [
    "minus(10, 3)"
   ]
  },
  {
   "cell_type": "code",
   "execution_count": 35,
   "metadata": {},
   "outputs": [
    {
     "ename": "TypeError",
     "evalue": "'int' object is not callable",
     "output_type": "error",
     "traceback": [
      "\u001b[0;31m---------------------------------------------------------------------------\u001b[0m",
      "\u001b[0;31mTypeError\u001b[0m                                 Traceback (most recent call last)",
      "\u001b[0;32m<ipython-input-35-c83c5a00f0cd>\u001b[0m in \u001b[0;36m<module>\u001b[0;34m\u001b[0m\n\u001b[0;32m----> 1\u001b[0;31m \u001b[0msubtract\u001b[0m\u001b[0;34m(\u001b[0m\u001b[0;36m10\u001b[0m\u001b[0;34m,\u001b[0m \u001b[0;36m3\u001b[0m\u001b[0;34m)\u001b[0m\u001b[0;34m\u001b[0m\u001b[0;34m\u001b[0m\u001b[0m\n\u001b[0m",
      "\u001b[0;31mTypeError\u001b[0m: 'int' object is not callable"
     ]
    }
   ],
   "source": [
    "subtract(10, 3)"
   ]
  },
  {
   "cell_type": "markdown",
   "metadata": {},
   "source": [
    "You probably wouldn't do things like that often.  However, the fact that functions are just stored in variables is quite useful!  It means you can pass functions as values to other functions.  We'll talk more about this later, but behold:"
   ]
  },
  {
   "cell_type": "code",
   "execution_count": 40,
   "metadata": {},
   "outputs": [
    {
     "data": {
      "text/plain": [
       "[2, 12, 30]"
      ]
     },
     "execution_count": 40,
     "metadata": {},
     "output_type": "execute_result"
    }
   ],
   "source": [
    "def multiply(l):\n",
    "    return l[0] * l[1]\n",
    "\n",
    "list(map(multiply, [[1,2], [3,4], [5,6]]))"
   ]
  },
  {
   "cell_type": "markdown",
   "metadata": {},
   "source": [
    "## Exercises\n",
    "\n",
    "### Exercise 1:\n",
    "\n",
    "Write a function that takes two integers and returns the larger of the two."
   ]
  },
  {
   "cell_type": "code",
   "execution_count": null,
   "metadata": {},
   "outputs": [],
   "source": [
    "def larger_int(): # Do you need to adjust this line?\n",
    "    # What do you add after the return statement?\n",
    "    return\n",
    "\n",
    "print(larger_int(1, 2)) # Should be \"2\"\n",
    "print(larger_int(5, 3)) # Should be \"5\""
   ]
  },
  {
   "cell_type": "markdown",
   "metadata": {},
   "source": [
    "### Exercise 2:\n",
    "\n",
    "Write a function that returns the *nth* Fibonacci Number.\n",
    "\n",
    "_Hint:_ Functions are allowed to call themselves recursively!  (As long as the recursion isn't infinite.)"
   ]
  },
  {
   "cell_type": "code",
   "execution_count": null,
   "metadata": {},
   "outputs": [],
   "source": [
    "# your function here\n",
    "\n",
    "print(fib(0)) # -> 0\n",
    "print(fib(1)) # -> 1\n",
    "print(fib(4)) # -> 5"
   ]
  },
  {
   "cell_type": "markdown",
   "metadata": {},
   "source": [
    "### Exercise 3\n",
    "\n",
    "Write a function that loops through a list (twice) and returns `True` if the product of any two elements is 44.\n",
    "\n",
    "*Hint*: What happens if you put a `return` statement inside a loop?"
   ]
  },
  {
   "cell_type": "code",
   "execution_count": null,
   "metadata": {},
   "outputs": [],
   "source": [
    "list_1 = [5, 2, 11, 9, 3, 4, 16]\n",
    "list_2 = [13, 3, 12, 5, 7, 8, 1]\n",
    "\n",
    "# your function here"
   ]
  },
  {
   "cell_type": "markdown",
   "metadata": {},
   "source": [
    "#### Exercise 3b\n",
    "\n",
    "Create a new version of your previous function that also accept an optional argument that allows you to set the target value (instead of hardcoding 44).  But have the `target` argument still default to 44."
   ]
  },
  {
   "cell_type": "code",
   "execution_count": 24,
   "metadata": {},
   "outputs": [],
   "source": [
    "# Your code here\n",
    "# (you can still refer to list_1 and list_2 in this cell)"
   ]
  },
  {
   "cell_type": "markdown",
   "metadata": {},
   "source": [
    "### Exercise 4\n",
    "\n",
    "Write a function that takes two lists and checks to see if the lists are permutations of each other (that is, whether they have the same elements regardless of order)."
   ]
  },
  {
   "cell_type": "code",
   "execution_count": null,
   "metadata": {},
   "outputs": [],
   "source": [
    "list_3 = [2, 3, 4, 5, 9, 11, 16]\n",
    "# list_3 contains the same elements as list_1, but list_2 is different\n",
    "\n",
    "# your code here"
   ]
  },
  {
   "cell_type": "markdown",
   "metadata": {},
   "source": [
    "### Exercise 5\n",
    "\n",
    "Write a function that takes a string and prints the number of uppercase and lowercase characters to the screen.  Does this function need to return anything?  Is that OK?\n",
    "\n",
    "*Hint:* there are `'string'.isupper()` and `'string'.islower()` functions. Also, strings are iterable in Python (meaning you can loop through them using a `for` loop as if they were a list)."
   ]
  },
  {
   "cell_type": "code",
   "execution_count": null,
   "metadata": {},
   "outputs": [],
   "source": []
  },
  {
   "cell_type": "markdown",
   "metadata": {},
   "source": [
    "## Advanced: `*args`\n",
    "\n",
    "Sometimes, but not frequently, you may want to have a function that can take an *arbitrary* number of inputs. Adding `*args` as an argument to your function allows you to do just that: feed your function an arbritary number of inputs.\n",
    "\n",
    "The arguments passed to an instance of your function will be stored in a data structure called a **tuple**. A tuple is like a list, except the elements of a tuple can't be changed as easily as for a list.\n",
    "\n",
    "The asterisk before the `args` is the **unpacking operater**. It breaks apart a list or tuple into constituent elements. Let's play around with `*args` to see what it does."
   ]
  },
  {
   "cell_type": "code",
   "execution_count": 29,
   "metadata": {},
   "outputs": [
    {
     "name": "stdout",
     "output_type": "stream",
     "text": [
      "(1, 2, 3)\n",
      "1 2 3\n",
      "The argument in position 0 of the args tuple is 1\n",
      "The argument in position 1 of the args tuple is 2\n",
      "The argument in position 2 of the args tuple is 3\n"
     ]
    }
   ],
   "source": [
    "def test_function(*args):\n",
    "    '''\n",
    "    Testing *args\n",
    "    '''\n",
    "    \n",
    "    print(args)\n",
    "    print(*args)\n",
    "    \n",
    "    i = 0\n",
    "    for arg in args:\n",
    "        print(\"The argument in position \" + str(i) + \" of the args tuple is \" + str(arg))\n",
    "        i += 1\n",
    "        \n",
    "test_function(1,2,3)"
   ]
  },
  {
   "cell_type": "markdown",
   "metadata": {},
   "source": [
    "## Bonus Exercise:\n",
    "\n",
    "Write a function that takes an *arbirary* number of integers and adds them together."
   ]
  },
  {
   "cell_type": "code",
   "execution_count": null,
   "metadata": {},
   "outputs": [],
   "source": [
    "# your function here"
   ]
  },
  {
   "cell_type": "markdown",
   "metadata": {},
   "source": [
    "## Additional Notes on Functions\n",
    "\n",
    "Use triple quotes (either single or double) to write a **docstring** that documents your function:"
   ]
  },
  {
   "cell_type": "code",
   "execution_count": 25,
   "metadata": {},
   "outputs": [],
   "source": [
    "def my_max(list_of_numbers):\n",
    "    \"\"\"\n",
    "    This function returns the maximum number in the list_of_numbers argument.\n",
    "    \"\"\"\n",
    "    return # Code here..."
   ]
  },
  {
   "cell_type": "markdown",
   "metadata": {},
   "source": [
    "You can use the built-in `help()` function to read the docstring of any function."
   ]
  },
  {
   "cell_type": "code",
   "execution_count": 26,
   "metadata": {},
   "outputs": [
    {
     "name": "stdout",
     "output_type": "stream",
     "text": [
      "Help on function my_max in module __main__:\n",
      "\n",
      "my_max(list_of_numbers)\n",
      "    This function returns the maximum number in the list_of_numbers argument.\n",
      "\n"
     ]
    }
   ],
   "source": [
    "help(my_max)"
   ]
  },
  {
   "cell_type": "markdown",
   "metadata": {},
   "source": [
    "This also works on built-in functions!"
   ]
  },
  {
   "cell_type": "code",
   "execution_count": 27,
   "metadata": {},
   "outputs": [
    {
     "name": "stdout",
     "output_type": "stream",
     "text": [
      "Help on built-in function sum in module builtins:\n",
      "\n",
      "sum(iterable, start=0, /)\n",
      "    Return the sum of a 'start' value (default: 0) plus an iterable of numbers\n",
      "    \n",
      "    When the iterable is empty, return the start value.\n",
      "    This function is intended specifically for use with numeric values and may\n",
      "    reject non-numeric types.\n",
      "\n"
     ]
    }
   ],
   "source": [
    "help(sum)"
   ]
  },
  {
   "cell_type": "code",
   "execution_count": 28,
   "metadata": {},
   "outputs": [
    {
     "name": "stdout",
     "output_type": "stream",
     "text": [
      "Help on _Helper in module _sitebuiltins object:\n",
      "\n",
      "class _Helper(builtins.object)\n",
      " |  Define the builtin 'help'.\n",
      " |  \n",
      " |  This is a wrapper around pydoc.help that provides a helpful message\n",
      " |  when 'help' is typed at the Python interactive prompt.\n",
      " |  \n",
      " |  Calling help() at the Python prompt starts an interactive help session.\n",
      " |  Calling help(thing) prints help for the python object 'thing'.\n",
      " |  \n",
      " |  Methods defined here:\n",
      " |  \n",
      " |  __call__(self, *args, **kwds)\n",
      " |      Call self as a function.\n",
      " |  \n",
      " |  __repr__(self)\n",
      " |      Return repr(self).\n",
      " |  \n",
      " |  ----------------------------------------------------------------------\n",
      " |  Data descriptors defined here:\n",
      " |  \n",
      " |  __dict__\n",
      " |      dictionary for instance variables (if defined)\n",
      " |  \n",
      " |  __weakref__\n",
      " |      list of weak references to the object (if defined)\n",
      "\n"
     ]
    }
   ],
   "source": [
    "help(help)"
   ]
  },
  {
   "cell_type": "markdown",
   "metadata": {},
   "source": [
    "**methods** are functions that specifically act on objects:\n",
    "\n",
    "  * **methods** are called like this: `object.method()`:\n",
    "  * functions can just be called like: `print()`, `len()`, or `add()`\n",
    "  \n",
    "**FYI**: Python has convensions and a styleguide for naming things: see [PEP8 Python Conventions](https://www.python.org/dev/peps/pep-0008/). Generally, though, python is intended to be human readable, so that someone reading your code can quickly get a sense of what you are doing."
   ]
  },
  {
   "cell_type": "code",
   "execution_count": null,
   "metadata": {},
   "outputs": [],
   "source": []
  }
 ],
 "metadata": {
  "kernelspec": {
   "display_name": "Python 3",
   "language": "python",
   "name": "python3"
  },
  "language_info": {
   "codemirror_mode": {
    "name": "ipython",
    "version": 3
   },
   "file_extension": ".py",
   "mimetype": "text/x-python",
   "name": "python",
   "nbconvert_exporter": "python",
   "pygments_lexer": "ipython3",
   "version": "3.7.4"
  }
 },
 "nbformat": 4,
 "nbformat_minor": 2
}
