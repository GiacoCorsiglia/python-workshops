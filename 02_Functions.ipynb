{
 "cells": [
  {
   "cell_type": "markdown",
   "metadata": {},
   "source": [
    "# Functions\n",
    "\n",
    "Generally in computer programming, there are *objects* which are 'things' and there are *functions* that perform actions.\n",
    "\n",
    "In math, a function is something that takes inputs, and generates an output. In python, the idea of a function is similar except that in python functions can sometimes take no inputs, take a variety of inputs, or not generate an output (and \n",
    "instead only *does* something).\n",
    "\n",
    "\n",
    "## Built-In Functions\n",
    "\n",
    "We've already seen some functions that are built-in to python. They perform convenient actions that you might otherwise have to tell the comupter how to do yourself by writing your own code.\n",
    "\n",
    "Three of these are:\n",
    "\n",
    "* print()\n",
    "* len()\n",
    "* sum()\n",
    "\n",
    "Here is a link to a list of python built-in functions: https://docs.python.org/3/library/functions.html\n",
    "\n",
    "Lets take a look at the max() and sorted() functions:"
   ]
  },
  {
   "cell_type": "code",
   "execution_count": null,
   "metadata": {},
   "outputs": [],
   "source": [
    "my_list = [5, 8, 1, 6, 3, 14, 6, 20, 13, 25]\n",
    "\n",
    "print(max(my_list))\n",
    "\n",
    "sorted_list = sorted(my_list)\n",
    "print(sorted_list)\n",
    "print(my_list)"
   ]
  },
  {
   "cell_type": "markdown",
   "metadata": {},
   "source": [
    "**NOTE**: There is also a sort() function in Python, and they handle sorting differently. sorted() returns a NEW, sorted version of your list, so you need a new variable to hold it. sort() modifies your list, destroying the UNsorted version."
   ]
  },
  {
   "cell_type": "markdown",
   "metadata": {},
   "source": [
    "## Notes on Functions\n",
    "\n",
    "* _docstrings_ are used to document functions\n",
    "* _methods_ are functions that specifically act on objects.\n",
    "  * _methods_ are called like this: object.method():\n",
    "  * functions can just be called like: print(), len(), or add()\n",
    "* the things **passed** to functions are called _arguments_"
   ]
  },
  {
   "cell_type": "markdown",
   "metadata": {},
   "source": [
    "## Writing your own Functions\n",
    "\n",
    "Sometimes we need to write our own function that does something more specific than the built-in functions can do. Or maybe we want to \"wrap\" a built-in function into a something that's more easy to handle or more tailored to what you want to do.\n",
    "\n",
    "### Syntax\n",
    "\n",
    "To DEFine your own function, simply start a line with the keyword def, then give your function a name. You need open and closed parenthesis (and provide handles for anything you *pass* to the function). And finally end the line with a colon. Indent one level, then write the body of your function.\n",
    "\n",
    "The parenthesis after the name of the function indicate that we are dealing with a function, it also provides the place to 'feed' inputs (called *positional arguments*) to your function.\n",
    "\n",
    "Use triple quotes (either single or double) to write a *docstring* that documents your function.\n",
    "\n",
    "**FYI**: Python has convensions and a styleguide for naming things: see [PEP8 Python Conventions](https://www.python.org/dev/peps/pep-0008/). Generally, though, python is intended to be human readable, so that someone reading your code can quickly get a sense of what you are doing.\n",
    "\n",
    "What do you think this function does?\n"
   ]
  },
  {
   "cell_type": "code",
   "execution_count": null,
   "metadata": {},
   "outputs": [],
   "source": [
    "def add(x, y):\n",
    "    '''\n",
    "    This function adds the two arguments x & y\n",
    "    '''\n",
    "    return x + y"
   ]
  },
  {
   "cell_type": "code",
   "execution_count": null,
   "metadata": {},
   "outputs": [],
   "source": [
    "add(4,5)"
   ]
  },
  {
   "cell_type": "code",
   "execution_count": null,
   "metadata": {},
   "outputs": [],
   "source": [
    "help(add)"
   ]
  },
  {
   "cell_type": "markdown",
   "metadata": {},
   "source": [
    "## Exercise 1:\n",
    "\n",
    "Write a function that takes two integers and returns the larger of the two. Don't forget a docstring!"
   ]
  },
  {
   "cell_type": "code",
   "execution_count": null,
   "metadata": {},
   "outputs": [],
   "source": [
    "def larger_int():\n",
    "    '''\n",
    "    \n",
    "    '''\n",
    "    "
   ]
  },
  {
   "cell_type": "markdown",
   "metadata": {},
   "source": [
    "## Exercise 2:\n",
    "\n",
    "Write a function that returns the nth Fibonacci Number."
   ]
  },
  {
   "cell_type": "code",
   "execution_count": null,
   "metadata": {},
   "outputs": [],
   "source": [
    "# your function here"
   ]
  },
  {
   "cell_type": "markdown",
   "metadata": {},
   "source": [
    "## Exercise 3:\n",
    "\n",
    "Write a function that loops through an array and returns 'True' if the product of any two elements is 44. *hint*: can you use a break some where to save some time?"
   ]
  },
  {
   "cell_type": "code",
   "execution_count": null,
   "metadata": {},
   "outputs": [],
   "source": [
    "list_1 = [5, 2, 11, 9, 3, 4, 16]\n",
    "list_2 = [13, 3, 12, 5, 7, 8, 1]\n",
    "\n",
    "# your function here"
   ]
  },
  {
   "cell_type": "markdown",
   "metadata": {},
   "source": [
    "## Exercise 4:\n",
    "\n",
    "Write a function that takes two lists and checks to see if the lists are permutations of eachother (that is whether they have the same elements regardless of order."
   ]
  },
  {
   "cell_type": "code",
   "execution_count": null,
   "metadata": {},
   "outputs": [],
   "source": [
    "list_3 = [2, 3, 4, 5, 9, 11, 16] #this list contains the same elements as list_1\n",
    "\n",
    "# your code here"
   ]
  },
  {
   "cell_type": "markdown",
   "metadata": {},
   "source": [
    "## Exercise 5:\n",
    "\n",
    "Write a function that takes a string and prints the number of uppercase and lowercase characters to the screen.\n",
    "\n",
    "*hint:* there are 'string'.isupper() and 'string'.islower() functions. Also, strings are iterable in python."
   ]
  },
  {
   "cell_type": "code",
   "execution_count": null,
   "metadata": {},
   "outputs": [],
   "source": [
    "def string_case(s):\n",
    "    '''\n",
    "    \n",
    "    '''"
   ]
  },
  {
   "cell_type": "markdown",
   "metadata": {},
   "source": [
    "## Advanced: \\*args\n",
    "\n",
    "Sometimes, but not frequently, you may want to have a function that can take an *arbitrary* number of inputs. Adding \\*args as an argument to your function allows you to do just that: feed your function an arbritary number of inputs.\n",
    "\n",
    "The arguments passed to an instance of your function will be stored in a data structure called a *tuple.* A tuple is like a list, except the elements of a tuple can't be changed as easily as for a list.\n",
    "\n",
    "The asterisk before the *args* is the unpacking operater. It breaks apart a list or tuple into constituent elements. Let's play around with \\*args to see what it does."
   ]
  },
  {
   "cell_type": "code",
   "execution_count": null,
   "metadata": {},
   "outputs": [],
   "source": [
    "def test_function(*args):\n",
    "    '''\n",
    "    Testing *args\n",
    "    '''\n",
    "    \n",
    "    print(args)\n",
    "    print(*args)\n",
    "    \n",
    "    i = 0\n",
    "    for arg in args:\n",
    "        print(\"The argument in position \" + str(i) + \" of the args tuple is \" + str(arg))\n",
    "        i += 1\n",
    "        \n",
    "test_function(1,2,3)"
   ]
  },
  {
   "cell_type": "markdown",
   "metadata": {},
   "source": [
    "## Bonus Exercise:\n",
    "\n",
    "Write a function that takes an *arbirary* number of integers and adds them together."
   ]
  },
  {
   "cell_type": "code",
   "execution_count": null,
   "metadata": {},
   "outputs": [],
   "source": [
    "# your function here"
   ]
  }
 ],
 "metadata": {
  "kernelspec": {
   "display_name": "Python 3",
   "language": "python",
   "name": "python3"
  },
  "language_info": {
   "codemirror_mode": {
    "name": "ipython",
    "version": 3
   },
   "file_extension": ".py",
   "mimetype": "text/x-python",
   "name": "python",
   "nbconvert_exporter": "python",
   "pygments_lexer": "ipython3",
   "version": "3.7.3"
  }
 },
 "nbformat": 4,
 "nbformat_minor": 2
}
