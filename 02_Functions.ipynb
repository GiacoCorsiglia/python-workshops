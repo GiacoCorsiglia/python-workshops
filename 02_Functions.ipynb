{
 "cells": [
  {
   "cell_type": "markdown",
   "metadata": {},
   "source": [
    "# Functions\n",
    "\n",
    "Generally in computer programming, there are *objects* which are 'things' and there are *functions* that perform actions.\n",
    "\n",
    "In math, a function is something that takes inputs, and generates an output. In python, the idea of a function is similar except that in python functions can sometimes take no inputs, take a variety of inputs, or not generate an output (and instead only *do* something.\n",
    "\n",
    "## Built-In Functions\n",
    "\n",
    "We've already seen some functions that are built-in to python. They perform convenient actions that you might otherwise have to tell the comupter how to do yourself by writing your own code.\n",
    "\n",
    "Three of these are:\n",
    "\n",
    "print(), len(), and sum()\n",
    "\n",
    "Here is a link to a list of python built-in functions: https://docs.python.org/3/library/functions.html\n",
    "\n",
    "Lets take a look at the max() and sorted() function:"
   ]
  },
  {
   "cell_type": "code",
   "execution_count": 8,
   "metadata": {},
   "outputs": [
    {
     "name": "stdout",
     "output_type": "stream",
     "text": [
      "25\n",
      "[1, 3, 5, 6, 6, 8, 13, 14, 20, 25]\n",
      "[5, 8, 1, 6, 3, 14, 6, 20, 13, 25]\n"
     ]
    }
   ],
   "source": [
    "my_list = [5, 8, 1, 6, 3, 14, 6, 20, 13, 25]\n",
    "\n",
    "print(max(my_list))\n",
    "\n",
    "sorted_list = sorted(my_list)\n",
    "print(sorted_list)\n",
    "print(my_list)"
   ]
  },
  {
   "cell_type": "markdown",
   "metadata": {},
   "source": [
    "NOTE: There is also a sort() function in Python, and they handle sorting differently. sorted() returns a NEW, sorted version of your list, so you need a new variable to hold it. sort() modifies your list destroying the UNsorted version."
   ]
  },
  {
   "cell_type": "markdown",
   "metadata": {},
   "source": [
    "## Syntax\n",
    "\n",
    "The parenthesis after the name of the function indicate that we are dealing with a function, it also provides the place to 'feed' inputs to your function.\n",
    "\n",
    "To DEFine your own function, simply start a line with the keyword def, then give your function a name. You need open and closed parenthesis (and provide handles for anything you *pass* to the function). And finally end the line with a colon. Indent one level, then write the body of your function.\n",
    "\n",
    "FYI: Python has convensions and a styleguide for naming things, but I play by my own rules. Generally, though, python is intended to be human readable, so that someone reading your code can quickly get a sense of what you are doing.\n",
    "\n",
    "What do you think this function does?"
   ]
  },
  {
   "cell_type": "code",
   "execution_count": 1,
   "metadata": {},
   "outputs": [],
   "source": [
    "def add(x, y):\n",
    "    return x + y"
   ]
  },
  {
   "cell_type": "code",
   "execution_count": 2,
   "metadata": {},
   "outputs": [
    {
     "data": {
      "text/plain": [
       "9"
      ]
     },
     "execution_count": 2,
     "metadata": {},
     "output_type": "execute_result"
    }
   ],
   "source": [
    "add(4,5)"
   ]
  },
  {
   "cell_type": "markdown",
   "metadata": {},
   "source": [
    "## Advanced: \\*args  and \\*\\*kwargs\n",
    "\n"
   ]
  },
  {
   "cell_type": "code",
   "execution_count": null,
   "metadata": {},
   "outputs": [],
   "source": []
  }
 ],
 "metadata": {
  "kernelspec": {
   "display_name": "Python 3",
   "language": "python",
   "name": "python3"
  },
  "language_info": {
   "codemirror_mode": {
    "name": "ipython",
    "version": 3
   },
   "file_extension": ".py",
   "mimetype": "text/x-python",
   "name": "python",
   "nbconvert_exporter": "python",
   "pygments_lexer": "ipython3",
   "version": "3.7.3"
  }
 },
 "nbformat": 4,
 "nbformat_minor": 2
}
