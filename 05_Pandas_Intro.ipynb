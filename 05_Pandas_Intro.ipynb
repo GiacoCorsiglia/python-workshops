{
 "cells": [
  {
   "cell_type": "markdown",
   "metadata": {},
   "source": [
    "# Pandas: the Data Analysis Library\n",
    "\n",
    "Just like the numpy library centers around the 'ndarray' object, the Pandas Library centers around the DataFrame object.\n",
    "\n",
    "In numpy, you want to think about the ndarray as a vector/matrix. In Pandas, you want to think of a DataFrame like an excel spreadsheet with rows representing individual 'events' and columns containing data on different 'attributes' of each event.\n",
    "\n",
    "As with all python libraries, the documentation will be your friend: https://pandas.pydata.org/docs/index.html\n",
    "\n",
    "The standard import statement for the pandas libaray is:"
   ]
  },
  {
   "cell_type": "code",
   "execution_count": null,
   "metadata": {},
   "outputs": [],
   "source": [
    "import pandas as pd\n",
    "\n",
    "import numpy as np\n",
    "import matplotlib.pyplot as plt"
   ]
  },
  {
   "cell_type": "markdown",
   "metadata": {},
   "source": [
    "## Initializing a DataFrame\n",
    "\n",
    "### Importing\n",
    "Importing data from an excel spread sheet (.xlsx, .xls, etc) or comma separeted value (.csv) file is miraculously easy.\n",
    "\n",
    "Depending on the file type, you will want to use either:\n",
    "   - [pd.read_csv('relative_path_to_file', ...)](https://pandas.pydata.org/docs/reference/api/pandas.read_csv.html)\n",
    "   - [pd.read_excel('relative_path_to_file', 'sheet_name', ...)](https://pandas.pydata.org/docs/reference/api/pandas.read_excel.html)\n",
    "   \n",
    "There are similar import functions for JSON files, SQL databases, html documents, HDF5 files, and more!\n",
    "\n",
    "Notice, that when importing from an excel document, you have a way to handle spreadsheets with mulitple sheets. Lets see some examples of importing:"
   ]
  },
  {
   "cell_type": "code",
   "execution_count": null,
   "metadata": {},
   "outputs": [],
   "source": [
    "vg_data   = pd.read_csv('data/vgsales.csv')\n",
    "\n",
    "FMCE_data = pd.read_excel('data/FMCE_pre_post_Fa7_anon.xlsx')\n",
    "#FMCE_data = pd.read_excel('data/FMCE_pre_post_Fa7_anon.xlsx', ['Pre', 'PostTest', 'Matched Valid'])\n",
    "\n",
    "type(FMCE_data)"
   ]
  },
  {
   "cell_type": "markdown",
   "metadata": {},
   "source": [
    "FYI, a handy pandas function is head(), which will grab the top couple rows from a DataFrame:"
   ]
  },
  {
   "cell_type": "code",
   "execution_count": null,
   "metadata": {},
   "outputs": [],
   "source": [
    "vg_data.head()"
   ]
  },
  {
   "cell_type": "markdown",
   "metadata": {},
   "source": [
    "### From scratch using iterables (ie lists or arrays)\n",
    "\n",
    "This is less likely, but you can create a DataFrame by tying together a set of arrays.\n",
    "\n",
    "This requires the use of the pd.DataFrame() function."
   ]
  },
  {
   "cell_type": "code",
   "execution_count": null,
   "metadata": {},
   "outputs": [],
   "source": [
    "arr_1 = np.random.randn(10)\n",
    "arr_2 = np.random.rand(10)\n",
    "arr_3 = np.arange(0,10, 1)\n",
    "\n",
    "df = pd.DataFrame([arr_1, arr_2, arr_3], index = ['Normal', 'Flat', 'Linear'])\n",
    "\n",
    "df"
   ]
  },
  {
   "cell_type": "markdown",
   "metadata": {},
   "source": [
    "## Referencing and Finding Slices of Data\n",
    "\n",
    "Oftentimes you will only want to deal with data in a single column, or some subset of rows. There are many ways to go about acessing this data. To grab a column, use the format: dataframe['ColumnName']. "
   ]
  },
  {
   "cell_type": "code",
   "execution_count": null,
   "metadata": {},
   "outputs": [],
   "source": [
    "print(df[1])\n",
    "\n",
    "vg_data['NA_Sales']"
   ]
  },
  {
   "cell_type": "markdown",
   "metadata": {},
   "source": [
    "Pandas also has special function for grabbing more selective slices out of a DataFrame. Two of them are:\n",
    "    - df.iloc[indices]: grabs data at given indicies \n",
    "    - df.loc[handles] : grabs data using handles\n",
    "\n",
    "NOTICE: the snyntax here is to use square brackets rather than parentheses!!\n",
    "\n",
    "Let's see what the following commands will do:"
   ]
  },
  {
   "cell_type": "code",
   "execution_count": null,
   "metadata": {},
   "outputs": [],
   "source": [
    "print(df.loc['Linear'])\n",
    "\n",
    "print(df.iloc[1, :])\n",
    "\n",
    "vg_data.loc[:, 'NA_Sales']"
   ]
  },
  {
   "cell_type": "markdown",
   "metadata": {},
   "source": [
    "We can get even fancier with slicing out data with these functions. From the video game sales data, lets get all the rows that representing 'Sports' games. Then let's further slice that down for just Sports Games for the Wii Console (Platform)."
   ]
  },
  {
   "cell_type": "code",
   "execution_count": null,
   "metadata": {},
   "outputs": [],
   "source": [
    "vg_data.loc[vg_data['Genre'] == 'Sports']\n",
    "\n",
    "#vg_data.loc[(vg_data['Genre'] == 'Sports') & (vg_data['Platform'] == 'Wii') # & (vg_data['Year'] > 2010)]"
   ]
  },
  {
   "cell_type": "markdown",
   "metadata": {},
   "source": [
    "Let's get the sales breakdown for the sports game based on geographic area:"
   ]
  },
  {
   "cell_type": "code",
   "execution_count": null,
   "metadata": {},
   "outputs": [],
   "source": [
    "sports_data = vg_data.loc[vg_data['Genre'] == 'Sports']\n",
    "\n",
    "NA    = sports_data['NA_Sales'].sum() \n",
    "EU    = sports_data['EU_Sales'].sum()\n",
    "JP    = sports_data['JP_Sales'].sum()\n",
    "Other = sports_data['Other_Sales'].sum()\n",
    "\n",
    "plt.pie([NA, EU, JP, Other], (0, 0, .1, 0), ['North America', 'Europe', 'Japan', 'Other'])"
   ]
  },
  {
   "cell_type": "markdown",
   "metadata": {},
   "source": [
    "## Built-in Pandas Functions\n",
    "\n",
    "It seems like a bit of redundancy, but Pandas has some built in functions that do all the same thing as numpy functions. It doesn't appear there is any extra efficiency for using the Pandas functions over the Numpy ones, but maybe Giaco knows why this is..."
   ]
  },
  {
   "cell_type": "code",
   "execution_count": null,
   "metadata": {},
   "outputs": [],
   "source": [
    "import numpy as np\n",
    "import time\n",
    "\n",
    "def mean_with_numpy():\n",
    "    t0 = time.time()\n",
    "    mean   = np.mean(vg_data['NA_Sales'])\n",
    "    stdev  = np.std( vg_data['NA_Sales'])\n",
    "    maxim  = np.max( vg_data['NA_Sales'])\n",
    "    count  = np.size(vg_data['NA_Sales'])\n",
    "    t1 = time.time()\n",
    "\n",
    "    print('Statistics calculated with Numpy as : ' + str(maxim) + ' in ' + str(t1-t0) + ' seconds.' )\n",
    "    \n",
    "    return mean, stdev, maxim, count\n",
    "    \n",
    "def mean_with_pandas():\n",
    "    t0 = time.time()\n",
    "    mean  = vg_data['NA_Sales'].mean()\n",
    "    stdev = vg_data['NA_Sales'].std()\n",
    "    maxim = vg_data['NA_Sales'].max()\n",
    "    count = vg_data['NA_Sales'].count()\n",
    "    t1 = time.time()\n",
    "\n",
    "    print('Statistics calculated with Pandas as: ' + str(maxim) + ' in ' + str(t1-t0) + ' seconds.' )\n",
    "    \n",
    "    return mean, stdev, maxim, count\n",
    "    \n",
    "mean_with_numpy()\n",
    "mean_with_pandas()"
   ]
  },
  {
   "cell_type": "markdown",
   "metadata": {},
   "source": [
    "## Plotting with Pandas\n",
    "\n",
    "Pandas also has plotting functions. Under the hood, these are just calls to matplotlib, so we need to have that imported to use the Pandas plotting features."
   ]
  },
  {
   "cell_type": "code",
   "execution_count": null,
   "metadata": {},
   "outputs": [],
   "source": [
    "vg_data.plot.scatter('NA_Sales', 'Global_Sales', title = 'Global vs North American Sales')"
   ]
  },
  {
   "cell_type": "code",
   "execution_count": null,
   "metadata": {},
   "outputs": [],
   "source": [
    "vg_data.hist('Year')"
   ]
  },
  {
   "cell_type": "code",
   "execution_count": null,
   "metadata": {},
   "outputs": [],
   "source": []
  }
 ],
 "metadata": {
  "kernelspec": {
   "display_name": "Python 3",
   "language": "python",
   "name": "python3"
  },
  "language_info": {
   "codemirror_mode": {
    "name": "ipython",
    "version": 3
   },
   "file_extension": ".py",
   "mimetype": "text/x-python",
   "name": "python",
   "nbconvert_exporter": "python",
   "pygments_lexer": "ipython3",
   "version": "3.7.3"
  }
 },
 "nbformat": 4,
 "nbformat_minor": 2
}
