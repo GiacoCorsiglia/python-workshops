{
 "cells": [
  {
   "cell_type": "markdown",
   "metadata": {},
   "source": [
    "# Pandas: the Data Analysis Library\n",
    "\n",
    "Just like the numpy library centers around the 'ndarray' object, the Pandas Library centers around the DataFrame object.\n",
    "\n",
    "In numpy, you want to think about the ndarray as a vector/matrix. In Pandas, you want to think of a DataFrame like an excel spreadsheet with rows representing individual 'events' and columns containing data on different 'attributes' of each event.\n",
    "\n",
    "As with all python libraries, the documentation will be your friend: https://pandas.pydata.org/docs/index.html\n",
    "\n",
    "The standard import statement for the pandas libaray is:"
   ]
  },
  {
   "cell_type": "code",
   "execution_count": 1,
   "metadata": {},
   "outputs": [],
   "source": [
    "import pandas as pd\n",
    "\n",
    "import numpy as np"
   ]
  },
  {
   "cell_type": "markdown",
   "metadata": {},
   "source": [
    "## Initializing a DataFrame\n",
    "\n",
    "### Importing\n",
    "Importing data from an excel spread sheet (.xlsx, .xls, etc) or comma separeted value (.csv) file is miraculously easy.\n",
    "\n",
    "Depending on the file type, you will want to use either:\n",
    "   - [pd.read_csv('relative_path_to_file', ...)](https://pandas.pydata.org/docs/reference/api/pandas.read_csv.html)\n",
    "   - [pd.read_excel('relative_path_to_file', 'sheet_name', ...)](https://pandas.pydata.org/docs/reference/api/pandas.read_excel.html)\n",
    "   \n",
    "There are similar import functions for JSON files, SQL databases, html documents, HDF5 files, and more!\n",
    "\n",
    "Notice, that when importing from an excel document, you have a way to handle spreadsheets with mulitple sheets. Lets see some examples of importing:"
   ]
  },
  {
   "cell_type": "code",
   "execution_count": 3,
   "metadata": {},
   "outputs": [
    {
     "data": {
      "text/plain": [
       "pandas.core.frame.DataFrame"
      ]
     },
     "execution_count": 3,
     "metadata": {},
     "output_type": "execute_result"
    }
   ],
   "source": [
    "vg_data   = pd.read_csv('data/vgsales.csv')\n",
    "\n",
    "FMCE_data = pd.read_excel('data/FMCE_pre_post_Fa7_anon.xlsx')\n",
    "#FMCE_data = pd.read_excel('data/FMCE_pre_post_Fa7_anon.xlsx', ['Pre', 'PostTest', 'Matched Valid'])\n",
    "\n",
    "type(FMCE_data)"
   ]
  },
  {
   "cell_type": "markdown",
   "metadata": {},
   "source": [
    "### From scratch using iterables (ie lists or arrays)\n",
    "\n",
    "This is less likely, but you can create a DataFrame by tying together a set of arrays.\n",
    "\n",
    "This requires the use of the pd.DataFrame() function."
   ]
  },
  {
   "cell_type": "code",
   "execution_count": 13,
   "metadata": {},
   "outputs": [
    {
     "data": {
      "text/html": [
       "<div>\n",
       "<style scoped>\n",
       "    .dataframe tbody tr th:only-of-type {\n",
       "        vertical-align: middle;\n",
       "    }\n",
       "\n",
       "    .dataframe tbody tr th {\n",
       "        vertical-align: top;\n",
       "    }\n",
       "\n",
       "    .dataframe thead th {\n",
       "        text-align: right;\n",
       "    }\n",
       "</style>\n",
       "<table border=\"1\" class=\"dataframe\">\n",
       "  <thead>\n",
       "    <tr style=\"text-align: right;\">\n",
       "      <th></th>\n",
       "      <th>0</th>\n",
       "      <th>1</th>\n",
       "      <th>2</th>\n",
       "      <th>3</th>\n",
       "      <th>4</th>\n",
       "      <th>5</th>\n",
       "      <th>6</th>\n",
       "      <th>7</th>\n",
       "      <th>8</th>\n",
       "      <th>9</th>\n",
       "    </tr>\n",
       "  </thead>\n",
       "  <tbody>\n",
       "    <tr>\n",
       "      <th>Normal</th>\n",
       "      <td>1.339624</td>\n",
       "      <td>0.611129</td>\n",
       "      <td>-0.203193</td>\n",
       "      <td>0.813491</td>\n",
       "      <td>-0.214602</td>\n",
       "      <td>0.764093</td>\n",
       "      <td>-0.153980</td>\n",
       "      <td>-0.246819</td>\n",
       "      <td>-0.899544</td>\n",
       "      <td>-0.150707</td>\n",
       "    </tr>\n",
       "    <tr>\n",
       "      <th>Flat</th>\n",
       "      <td>0.755858</td>\n",
       "      <td>0.901615</td>\n",
       "      <td>0.701756</td>\n",
       "      <td>0.478256</td>\n",
       "      <td>0.848976</td>\n",
       "      <td>0.292371</td>\n",
       "      <td>0.653099</td>\n",
       "      <td>0.936446</td>\n",
       "      <td>0.884592</td>\n",
       "      <td>0.076153</td>\n",
       "    </tr>\n",
       "    <tr>\n",
       "      <th>Linear</th>\n",
       "      <td>0.000000</td>\n",
       "      <td>1.000000</td>\n",
       "      <td>2.000000</td>\n",
       "      <td>3.000000</td>\n",
       "      <td>4.000000</td>\n",
       "      <td>5.000000</td>\n",
       "      <td>6.000000</td>\n",
       "      <td>7.000000</td>\n",
       "      <td>8.000000</td>\n",
       "      <td>9.000000</td>\n",
       "    </tr>\n",
       "  </tbody>\n",
       "</table>\n",
       "</div>"
      ],
      "text/plain": [
       "               0         1         2         3         4         5         6  \\\n",
       "Normal  1.339624  0.611129 -0.203193  0.813491 -0.214602  0.764093 -0.153980   \n",
       "Flat    0.755858  0.901615  0.701756  0.478256  0.848976  0.292371  0.653099   \n",
       "Linear  0.000000  1.000000  2.000000  3.000000  4.000000  5.000000  6.000000   \n",
       "\n",
       "               7         8         9  \n",
       "Normal -0.246819 -0.899544 -0.150707  \n",
       "Flat    0.936446  0.884592  0.076153  \n",
       "Linear  7.000000  8.000000  9.000000  "
      ]
     },
     "execution_count": 13,
     "metadata": {},
     "output_type": "execute_result"
    }
   ],
   "source": [
    "arr_1 = np.random.randn(10)\n",
    "arr_2 = np.random.rand(10)\n",
    "arr_3 = np.arange(0,10, 1)\n",
    "\n",
    "df = pd.DataFrame([arr_1, arr_2, arr_3], index = ['Normal', 'Flat', 'Linear'])\n",
    "\n",
    "df"
   ]
  },
  {
   "cell_type": "markdown",
   "metadata": {},
   "source": [
    "## Referencing and Finding Slices of Data\n",
    "\n",
    "Oftentimes you will only want to deal with data in a single column, or some subset of rows. There are many ways to go about acessing this data. To grab a column, use the format: dataframe['ColumnName']. "
   ]
  },
  {
   "cell_type": "code",
   "execution_count": 20,
   "metadata": {},
   "outputs": [
    {
     "name": "stdout",
     "output_type": "stream",
     "text": [
      "Normal    0.611129\n",
      "Flat      0.901615\n",
      "Linear    1.000000\n",
      "Name: 1, dtype: float64\n"
     ]
    },
    {
     "data": {
      "text/plain": [
       "0        41.49\n",
       "1        29.08\n",
       "2        15.85\n",
       "3        15.75\n",
       "4        11.27\n",
       "         ...  \n",
       "16593     0.01\n",
       "16594     0.01\n",
       "16595     0.00\n",
       "16596     0.00\n",
       "16597     0.01\n",
       "Name: NA_Sales, Length: 16598, dtype: float64"
      ]
     },
     "execution_count": 20,
     "metadata": {},
     "output_type": "execute_result"
    }
   ],
   "source": [
    "print(df[1])\n",
    "\n",
    "vg_data['NA_Sales']"
   ]
  },
  {
   "cell_type": "markdown",
   "metadata": {},
   "source": [
    "To grab just a single row"
   ]
  },
  {
   "cell_type": "markdown",
   "metadata": {},
   "source": [
    "## Built-in Pandas Functions\n",
    "\n",
    "It may be tempting to use numpy functions to find things like the mean and standard deviation of some column of values, or a built-in function like len() to find the number of elements in a column of data, but Pandas has it's own functions to do this that have been optimized to save time:"
   ]
  },
  {
   "cell_type": "code",
   "execution_count": 42,
   "metadata": {},
   "outputs": [
    {
     "name": "stdout",
     "output_type": "stream",
     "text": [
      "Mean calculated with Numpy as : 0.8166584270779742 in 0 seconds.\n",
      "Mean calculated with Pandas as: 0.8166830292990428 in 0 seconds.\n"
     ]
    }
   ],
   "source": [
    "import numpy as np\n",
    "import time\n",
    "\n",
    "def mean_with_numpy():\n",
    "    t0 = time.time_ns()\n",
    "    mean = np.std(vg_data['NA_Sales'])\n",
    "    t1 = time.time_ns()\n",
    "\n",
    "    print('Mean calculated with Numpy as : ' + str(mean) + ' in ' + str(t1-t0) + ' seconds.' )\n",
    "    \n",
    "def mean_with_pandas():\n",
    "    t0 = time.time_ns()\n",
    "    mean = vg_data['NA_Sales'].std()\n",
    "    t1 = time.time_ns()\n",
    "\n",
    "    print('Mean calculated with Pandas as: ' + str(mean) + ' in ' + str(t1-t0) + ' seconds.' )\n",
    "    \n",
    "mean_with_numpy()\n",
    "mean_with_pandas()"
   ]
  },
  {
   "cell_type": "markdown",
   "metadata": {},
   "source": [
    "## Plotting with Pandas"
   ]
  },
  {
   "cell_type": "code",
   "execution_count": null,
   "metadata": {},
   "outputs": [],
   "source": []
  }
 ],
 "metadata": {
  "kernelspec": {
   "display_name": "Python 3",
   "language": "python",
   "name": "python3"
  },
  "language_info": {
   "codemirror_mode": {
    "name": "ipython",
    "version": 3
   },
   "file_extension": ".py",
   "mimetype": "text/x-python",
   "name": "python",
   "nbconvert_exporter": "python",
   "pygments_lexer": "ipython3",
   "version": "3.7.6"
  }
 },
 "nbformat": 4,
 "nbformat_minor": 2
}
