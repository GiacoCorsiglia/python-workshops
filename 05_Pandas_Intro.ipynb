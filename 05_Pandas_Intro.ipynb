{
 "cells": [
  {
   "cell_type": "markdown",
   "metadata": {},
   "source": [
    "# Pandas\n",
    "\n",
    "Just like the numpy library centers around the 'ndarray' object, the Pandas Library centers around the DataFrame object.\n",
    "\n",
    "In numpy, you want to think about the ndarray as a vector/matrix. In Pandas, you want to think of a DataFrame like an excel spreadsheet with rows representing individual 'events' and columns containing data on different 'attributes' of each event.\n",
    "\n",
    "As with all python libraries, the documentation will be your friend: https://pandas.pydata.org/docs/index.html\n",
    "\n",
    "The standard import statement for the pandas libaray is:"
   ]
  },
  {
   "cell_type": "code",
   "execution_count": 1,
   "metadata": {},
   "outputs": [],
   "source": [
    "import pandas as pd"
   ]
  },
  {
   "cell_type": "markdown",
   "metadata": {},
   "source": [
    "## Initializing a DataFrame\n",
    "\n",
    "### Importing\n",
    "Importing data from an excel spread sheet (.xlsx, .xls, etc) or comma separeted value (.csv) file is miraculously easy.\n",
    "\n",
    "Depending on the file type, you will want to use either:\n",
    "   - [pd.read_csv('relative_path_to_file', ...)](https://pandas.pydata.org/docs/reference/api/pandas.read_csv.html?highlight=read#pandas.read_csv)\n",
    "   - [pd.read_excel('relative_path_to_file', 'sheet_name', ...)](https://pandas.pydata.org/docs/reference/api/pandas.read_excel.html?highlight=read#pandas.read_excel)\n",
    "   \n",
    "There are similar import functions for JSON files, SQL databases, html documents, HDF5 files, and more!\n",
    "\n",
    "Notice, that when importing from an excel document, you have a way to handle spreadsheets with mulitple sheets. Lets see some examples of importing:"
   ]
  },
  {
   "cell_type": "code",
   "execution_count": 11,
   "metadata": {},
   "outputs": [
    {
     "data": {
      "text/plain": [
       "pandas.core.frame.DataFrame"
      ]
     },
     "execution_count": 11,
     "metadata": {},
     "output_type": "execute_result"
    }
   ],
   "source": [
    "vg_data   = pd.read_csv('data/vgsales.csv')\n",
    "\n",
    "FMCE_data = pd.read_excel('data/FMCE_pre_post_Fa7_anon.xlsx')\n",
    "#FMCE_data = pd.read_excel('data/FMCE_pre_post_Fa7_anon.xlsx', ['Pre', 'PostTest', 'Matched Valid'])\n",
    "\n",
    "type(FMCE_data)"
   ]
  },
  {
   "cell_type": "markdown",
   "metadata": {},
   "source": [
    "### From scratch using iterables (ie lists or arrays)\n",
    "\n",
    "This is less likely, but you can create a DataFrame by tying together a set of arrays:"
   ]
  },
  {
   "cell_type": "code",
   "execution_count": null,
   "metadata": {},
   "outputs": [],
   "source": []
  },
  {
   "cell_type": "markdown",
   "metadata": {},
   "source": [
    "## Referencing and Finding Slices of Data\n",
    "\n",
    "Oftentimes you will only want to deal with data in a single column, or some subset of rows. There are many ways to go about acessing this data"
   ]
  },
  {
   "cell_type": "code",
   "execution_count": null,
   "metadata": {},
   "outputs": [],
   "source": []
  },
  {
   "cell_type": "markdown",
   "metadata": {},
   "source": [
    "## Built-in Pandas Functions\n",
    "\n",
    "It may be tempting to use numpy functions to find things like the mean and standard deviation of some column of values, or a built-in function like len() to find the number of elements in a column of data, but Pandas has it's own functions to do this that have been optimized to save time:"
   ]
  },
  {
   "cell_type": "code",
   "execution_count": null,
   "metadata": {},
   "outputs": [],
   "source": [
    "import numpy as np\n",
    "import time\n",
    "\n"
   ]
  }
 ],
 "metadata": {
  "kernelspec": {
   "display_name": "Python 3",
   "language": "python",
   "name": "python3"
  },
  "language_info": {
   "codemirror_mode": {
    "name": "ipython",
    "version": 3
   },
   "file_extension": ".py",
   "mimetype": "text/x-python",
   "name": "python",
   "nbconvert_exporter": "python",
   "pygments_lexer": "ipython3",
   "version": "3.7.3"
  }
 },
 "nbformat": 4,
 "nbformat_minor": 2
}
