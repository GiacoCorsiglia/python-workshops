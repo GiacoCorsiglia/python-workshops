{
 "cells": [
  {
   "cell_type": "markdown",
   "metadata": {},
   "source": [
    "# Introduction to `numpy`\n",
    "\n",
    "aka NUMerical PYthon. This package contains a powerful library of numerical tools. To use these tools you must have the following line at the beginning of your file (or at the beginning of your Jupyter notebook, just like this below):"
   ]
  },
  {
   "cell_type": "code",
   "execution_count": 1,
   "metadata": {},
   "outputs": [],
   "source": [
    "import numpy as np"
   ]
  },
  {
   "cell_type": "markdown",
   "metadata": {},
   "source": [
    "Once you run that shell (such as by clicking into it and then hitting Shift-Enter), you'll be able to refer to variables and functions from numpy by typing `np.<name of variable>`.\n",
    "\n",
    "The [`numpy` documentation](https://numpy.org/doc/stable/) includes guides somewhat akin to this notebook, as well as comprehensive descriptions of all of `numpy`'s capabilities and options."
   ]
  },
  {
   "cell_type": "markdown",
   "metadata": {},
   "source": [
    "## `numpy` arrays\n",
    "\n",
    "The \"array\" is the workhorse of the numpy library—under the hood they're called an `ndarray`.  Arrays are like Python's built-in Lists in that both can hold a set of values.  Unlike a list, which can contain elements of different 'types' (strings, ints, lists, etc), all the elements of an ndarray must be of the same \"type.\"\n",
    "\n",
    "(Perhaps confusingly, other programming languages use the term \"array\" to refer to a data type that is much more like Python's List.  But saying \"array\" in a Python context probably refers to `numpy`'s `ndarray`.)\n",
    "\n",
    "The easiest way to create an array is from a List, like this:"
   ]
  },
  {
   "cell_type": "code",
   "execution_count": 10,
   "metadata": {},
   "outputs": [
    {
     "data": {
      "text/plain": [
       "array([ 1,  2,  3, -1, -2, -3])"
      ]
     },
     "execution_count": 10,
     "metadata": {},
     "output_type": "execute_result"
    }
   ],
   "source": [
    "array1 = np.array([1, 2, 3, -1, -2, -3])\n",
    "array1 # Including this line makes Jupyter print the array:"
   ]
  },
  {
   "cell_type": "markdown",
   "metadata": {},
   "source": [
    "That created an array of integers.  We can check that by reading the \"data type\" off of `array1` using a dot, like this:"
   ]
  },
  {
   "cell_type": "code",
   "execution_count": 6,
   "metadata": {},
   "outputs": [
    {
     "data": {
      "text/plain": [
       "dtype('int64')"
      ]
     },
     "execution_count": 6,
     "metadata": {},
     "output_type": "execute_result"
    }
   ],
   "source": [
    "array1.dtype"
   ]
  },
  {
   "cell_type": "markdown",
   "metadata": {},
   "source": [
    "(The `int` part means the data type is \"integer.\"  The `64` means \"64-bit\".)\n",
    "\n",
    "If your array includes decimal values, it will have a `float` data type instead.  You can pretty much interpret `float` to mean \"decimal\" in computer programming."
   ]
  },
  {
   "cell_type": "markdown",
   "metadata": {},
   "source": [
    "Arrays are basically tensors.  `array1` is one dimensional, so it's a vector.  You will often work with 2D arrays—matrices.  But it's possible to create arrays with dimension 3 or higher.  `numpy` keeps track of the \"shape\" of an array for you:"
   ]
  },
  {
   "cell_type": "code",
   "execution_count": 11,
   "metadata": {},
   "outputs": [
    {
     "data": {
      "text/plain": [
       "(6,)"
      ]
     },
     "execution_count": 11,
     "metadata": {},
     "output_type": "execute_result"
    }
   ],
   "source": [
    "array1.shape"
   ]
  },
  {
   "cell_type": "markdown",
   "metadata": {},
   "source": [
    "This means `array1` has just one dimension, with 6 entries.  Here's a 2D example: "
   ]
  },
  {
   "cell_type": "code",
   "execution_count": 17,
   "metadata": {},
   "outputs": [
    {
     "data": {
      "text/plain": [
       "(3, 2)"
      ]
     },
     "execution_count": 17,
     "metadata": {},
     "output_type": "execute_result"
    }
   ],
   "source": [
    "array2 = np.array([\n",
    "    [1, 2],\n",
    "    [3, -1],\n",
    "    [-2, -3],\n",
    "])\n",
    "array2.shape"
   ]
  },
  {
   "cell_type": "markdown",
   "metadata": {},
   "source": [
    "This array represents the matrix\n",
    "\n",
    "$$\n",
    "\\begin{pmatrix}\n",
    "1 & 2 \\\\\n",
    "3 & -1 \\\\\n",
    "-2 & -3\n",
    "\\end{pmatrix}\n",
    "$$"
   ]
  },
  {
   "cell_type": "markdown",
   "metadata": {},
   "source": [
    "If you import from an Excel spreadsheet, you're going to get a matrix like this!  You can get the transpose like this:"
   ]
  },
  {
   "cell_type": "code",
   "execution_count": 16,
   "metadata": {},
   "outputs": [
    {
     "data": {
      "text/plain": [
       "array([[ 1,  3, -2],\n",
       "       [ 2, -1, -3]])"
      ]
     },
     "execution_count": 16,
     "metadata": {},
     "output_type": "execute_result"
    }
   ],
   "source": [
    "array2.T"
   ]
  },
  {
   "cell_type": "markdown",
   "metadata": {},
   "source": [
    "### Creating a blank array\n",
    "\n",
    "Sometimes you want an array that's filled with zeros to start.  To do this, you use the `np.zeros` function.  You have to pass it the \"shape\" of the array you want to create.  For example, if I wanted a 3-row, 4-column matrix filled with zeros, I'd write:"
   ]
  },
  {
   "cell_type": "code",
   "execution_count": 18,
   "metadata": {},
   "outputs": [
    {
     "data": {
      "text/plain": [
       "array([[0., 0., 0., 0.],\n",
       "       [0., 0., 0., 0.],\n",
       "       [0., 0., 0., 0.]])"
      ]
     },
     "execution_count": 18,
     "metadata": {},
     "output_type": "execute_result"
    }
   ],
   "source": [
    "np.zeros((3, 4))"
   ]
  },
  {
   "cell_type": "markdown",
   "metadata": {},
   "source": [
    "Notice the extra parenthesis in the `(3, 4)`.  We're creating an ordered pair of shape values, known as a `Tuple` in Python.  (If you just want a one-dimensional array, you can omit the extra parenthesis.)"
   ]
  },
  {
   "cell_type": "markdown",
   "metadata": {},
   "source": [
    "## Indexing and Slicing\n",
    "\n",
    "Let's include some (real PER) data so we have something to start working with."
   ]
  },
  {
   "cell_type": "code",
   "execution_count": 20,
   "metadata": {},
   "outputs": [],
   "source": [
    "responses = np.array([\n",
    "    [6, 4, 4, 4, 3, 2, 3, 3, 2, 1, 2, 2],\n",
    "    [6, 2, 1, 2, 3, 3, 2, 4, 2, 4, 4, 4],\n",
    "    [5, 5, 6, 7, 5, 3, 5, 5, 5, 8, 6, 5],\n",
    "    [3, 7, 6, 10, 0, 5, 5, 7, 7, 7, 7, 8],\n",
    "    [7, 7, 5, 4, 5, 7, 7, 9, 6, 9, 8, 8],\n",
    "    [0, 5, 5, 6, 7, 6, 6, 4, 5, 5, 7, 7],\n",
    "    [5, 5, 5, 7, 4, 4, 0, 4, 10, 5, 1, 2],\n",
    "    [3, 4, 5, 2, 0, 3, 6, 0, 2, 4, 4, 5],\n",
    "    [2, 0, 2, 0, 2, 3, 0, 0, 1, 1, 1, 3],\n",
    "    [0, 1, 2, 2, 2, 3, 0, 4, 4, 2, 0, 0],\n",
    "    [5, 5, 5, 4, 5, 0, 0, 5, 5, 5, 5, 0],\n",
    "    [5, 5, 5, 5, np.nan, 5, 5, 5, 5, 5, 5, 5],\n",
    "    [4, 6, 6, 4, 4, 4, 6, 3, 3, 3, np.nan, 8],\n",
    "    [1, 6, 3, 2, 1, 2, 3, 4, 3, 3, 2, np.nan],\n",
    "    [7, 5, 4, 2, 2, 2, 1, 2, 1, 2, 2, np.nan],\n",
    "    [5, 5, 1, 0, 5, 5, 2, 5, 0, 0, 0, np.nan],\n",
    "    [4, 7, 7, 5, 6, 5, np.nan, 8, 5, 5, 5, 7],\n",
    "    [np.nan, np.nan, 4, 2, 2, 0, 4, 5, 4, 5, 4, 6],\n",
    "    [np.nan, np.nan, 2, 8, 5, 7, 8, 0, 3, 5, 7, np.nan],\n",
    "    [3, 5, 4, 2, 3, 4, np.nan, 5, 0, 5, np.nan, np.nan],\n",
    "    [4, 5, 0, np.nan, 4, 2, np.nan, 2, 3, 3, np.nan, 5],\n",
    "    [4, 4, np.nan, 0, 0, 2, np.nan, 3, np.nan, 0, 0, 0],\n",
    "    [7, 7, 4, np.nan, 7, 5, 6, np.nan, 6, np.nan, np.nan, np.nan],\n",
    "    [0, 0, np.nan, np.nan, 0, 0, np.nan, np.nan, np.nan, np.nan, 0, 0],\n",
    "    [0, 5, 5, 5, np.nan, np.nan, 5, np.nan, np.nan, np.nan, 5, np.nan],\n",
    "    [np.nan, np.nan, np.nan, np.nan, np.nan, 8, np.nan, np.nan, np.nan, np.nan, np.nan, np.nan],\n",
    "])"
   ]
  },
  {
   "cell_type": "markdown",
   "metadata": {},
   "source": [
    "These data reflect students' responses to a weekly survey.  Each row represents a student, and each column represents a week.  `np.nan` stands for \"not a number.\"  It's the value we use to indicate missing data.\n",
    "\n",
    "Like Lists, you can read values out of `numpy` arrays using \"index notation.\"  To get the first row (the first student's responses) from the list, I can do:"
   ]
  },
  {
   "cell_type": "code",
   "execution_count": 21,
   "metadata": {},
   "outputs": [
    {
     "data": {
      "text/plain": [
       "array([6., 4., 4., 4., 3., 2., 3., 3., 2., 1., 2., 2.])"
      ]
     },
     "execution_count": 21,
     "metadata": {},
     "output_type": "execute_result"
    }
   ],
   "source": [
    "responses[0]"
   ]
  },
  {
   "cell_type": "markdown",
   "metadata": {},
   "source": [
    "Remember, counting starts at `0`!  But `numpy` arrays are more advanced than Lists.  If I wanted to access the response that the 3rd student gave on the 7th week, I can do:"
   ]
  },
  {
   "cell_type": "code",
   "execution_count": 23,
   "metadata": {},
   "outputs": [
    {
     "data": {
      "text/plain": [
       "5.0"
      ]
     },
     "execution_count": 23,
     "metadata": {},
     "output_type": "execute_result"
    }
   ],
   "source": [
    "responses[2, 6]"
   ]
  },
  {
   "cell_type": "markdown",
   "metadata": {},
   "source": [
    "You can also change the values in an array by assignment:"
   ]
  },
  {
   "cell_type": "code",
   "execution_count": 25,
   "metadata": {},
   "outputs": [
    {
     "name": "stdout",
     "output_type": "stream",
     "text": [
      "9.0\n"
     ]
    }
   ],
   "source": [
    "responses[2, 6] = 9.0\n",
    "print(responses[2, 6])"
   ]
  },
  {
   "cell_type": "markdown",
   "metadata": {},
   "source": [
    "But let's change it back—no falsifying data!"
   ]
  },
  {
   "cell_type": "code",
   "execution_count": 26,
   "metadata": {},
   "outputs": [],
   "source": [
    "responses[2, 6] = 5.0"
   ]
  },
  {
   "cell_type": "markdown",
   "metadata": {},
   "source": [
    "Sometimes you don't just want one value, but you want a range of values.  For this, you perform an operation called \"slicing.\"  To get the data for the 3rd to 6th students only, you can do:"
   ]
  },
  {
   "cell_type": "code",
   "execution_count": 27,
   "metadata": {},
   "outputs": [
    {
     "data": {
      "text/plain": [
       "array([[ 5.,  5.,  6.,  7.,  5.,  3.,  5.,  5.,  5.,  8.,  6.,  5.],\n",
       "       [ 3.,  7.,  6., 10.,  0.,  5.,  5.,  7.,  7.,  7.,  7.,  8.],\n",
       "       [ 7.,  7.,  5.,  4.,  5.,  7.,  7.,  9.,  6.,  9.,  8.,  8.],\n",
       "       [ 0.,  5.,  5.,  6.,  7.,  6.,  6.,  4.,  5.,  5.,  7.,  7.]])"
      ]
     },
     "execution_count": 27,
     "metadata": {},
     "output_type": "execute_result"
    }
   ],
   "source": [
    "responses[2:6]"
   ]
  },
  {
   "cell_type": "markdown",
   "metadata": {},
   "source": [
    "You can also filter to values that satisfy a certain comparison.  For example, to know how many responses are equal to `5.0`, you'd do:"
   ]
  },
  {
   "cell_type": "code",
   "execution_count": 34,
   "metadata": {},
   "outputs": [
    {
     "data": {
      "text/plain": [
       "66"
      ]
     },
     "execution_count": 34,
     "metadata": {},
     "output_type": "execute_result"
    }
   ],
   "source": [
    "len(responses[responses == 5])"
   ]
  },
  {
   "cell_type": "markdown",
   "metadata": {},
   "source": [
    "There's a lot to indexing and slicing in `numpy`.  Learn more in the [documentation](https://numpy.org/doc/stable/reference/arrays.indexing.html)."
   ]
  },
  {
   "cell_type": "markdown",
   "metadata": {},
   "source": [
    "### Operations on arrays\n",
    "\n",
    "You can perform arithmetic operations on `numpy` arrays.  They operate element-wise!  Let's just consider some examples."
   ]
  },
  {
   "cell_type": "code",
   "execution_count": 35,
   "metadata": {},
   "outputs": [
    {
     "data": {
      "text/plain": [
       "array([2, 4, 6])"
      ]
     },
     "execution_count": 35,
     "metadata": {},
     "output_type": "execute_result"
    }
   ],
   "source": [
    "np.array([1, 2, 3]) + np.array([1, 2, 3])"
   ]
  },
  {
   "cell_type": "code",
   "execution_count": 40,
   "metadata": {},
   "outputs": [
    {
     "data": {
      "text/plain": [
       "array([0, 0, 0])"
      ]
     },
     "execution_count": 40,
     "metadata": {},
     "output_type": "execute_result"
    }
   ],
   "source": [
    "np.array([1, 2, 3]) - np.array([1, 2, 3])"
   ]
  },
  {
   "cell_type": "code",
   "execution_count": 39,
   "metadata": {},
   "outputs": [
    {
     "data": {
      "text/plain": [
       "array([1, 4, 9])"
      ]
     },
     "execution_count": 39,
     "metadata": {},
     "output_type": "execute_result"
    }
   ],
   "source": [
    "np.array([1, 2, 3]) * np.array([1, 2, 3])"
   ]
  },
  {
   "cell_type": "code",
   "execution_count": 38,
   "metadata": {},
   "outputs": [
    {
     "data": {
      "text/plain": [
       "array([1., 1., 1.])"
      ]
     },
     "execution_count": 38,
     "metadata": {},
     "output_type": "execute_result"
    }
   ],
   "source": [
    "np.array([1, 2, 3]) / np.array([1, 2, 3])"
   ]
  },
  {
   "cell_type": "markdown",
   "metadata": {},
   "source": [
    "You can also multiply and divide by scalars:"
   ]
  },
  {
   "cell_type": "code",
   "execution_count": 41,
   "metadata": {},
   "outputs": [
    {
     "data": {
      "text/plain": [
       "array([ 5, 10, 15])"
      ]
     },
     "execution_count": 41,
     "metadata": {},
     "output_type": "execute_result"
    }
   ],
   "source": [
    "5 * np.array([1, 2, 3])"
   ]
  },
  {
   "cell_type": "markdown",
   "metadata": {},
   "source": [
    "Interestingly, you can also add and subtract a scalar.  This also works element-wise:"
   ]
  },
  {
   "cell_type": "code",
   "execution_count": 42,
   "metadata": {},
   "outputs": [
    {
     "data": {
      "text/plain": [
       "array([4, 3, 2])"
      ]
     },
     "execution_count": 42,
     "metadata": {},
     "output_type": "execute_result"
    }
   ],
   "source": [
    "5 - np.array([1, 2, 3])"
   ]
  },
  {
   "cell_type": "markdown",
   "metadata": {},
   "source": [
    "Under the hood, `numpy` inspects this expression and decides that what you really meant to do is:"
   ]
  },
  {
   "cell_type": "code",
   "execution_count": 43,
   "metadata": {},
   "outputs": [
    {
     "data": {
      "text/plain": [
       "array([4, 3, 2])"
      ]
     },
     "execution_count": 43,
     "metadata": {},
     "output_type": "execute_result"
    }
   ],
   "source": [
    "np.array([5, 5, 5]) - np.array([1, 2, 3])"
   ]
  },
  {
   "cell_type": "markdown",
   "metadata": {},
   "source": [
    "In general, `numpy` is pretty good at guessing your intention like this.  But sometimes it can't—for example, it makes no sense to add an array of length 4 to an array of length 3!"
   ]
  },
  {
   "cell_type": "code",
   "execution_count": 44,
   "metadata": {},
   "outputs": [
    {
     "ename": "ValueError",
     "evalue": "operands could not be broadcast together with shapes (3,) (4,) ",
     "output_type": "error",
     "traceback": [
      "\u001b[0;31m---------------------------------------------------------------------------\u001b[0m",
      "\u001b[0;31mValueError\u001b[0m                                Traceback (most recent call last)",
      "\u001b[0;32m<ipython-input-44-e2dcf37dac38>\u001b[0m in \u001b[0;36m<module>\u001b[0;34m\u001b[0m\n\u001b[0;32m----> 1\u001b[0;31m \u001b[0mnp\u001b[0m\u001b[0;34m.\u001b[0m\u001b[0marray\u001b[0m\u001b[0;34m(\u001b[0m\u001b[0;34m[\u001b[0m\u001b[0;36m1\u001b[0m\u001b[0;34m,\u001b[0m \u001b[0;36m2\u001b[0m\u001b[0;34m,\u001b[0m \u001b[0;36m3\u001b[0m\u001b[0;34m]\u001b[0m\u001b[0;34m)\u001b[0m \u001b[0;34m+\u001b[0m \u001b[0mnp\u001b[0m\u001b[0;34m.\u001b[0m\u001b[0marray\u001b[0m\u001b[0;34m(\u001b[0m\u001b[0;34m[\u001b[0m\u001b[0;36m1\u001b[0m\u001b[0;34m,\u001b[0m \u001b[0;36m2\u001b[0m\u001b[0;34m,\u001b[0m \u001b[0;36m3\u001b[0m\u001b[0;34m,\u001b[0m \u001b[0;36m4\u001b[0m\u001b[0;34m]\u001b[0m\u001b[0;34m)\u001b[0m\u001b[0;34m\u001b[0m\u001b[0;34m\u001b[0m\u001b[0m\n\u001b[0m",
      "\u001b[0;31mValueError\u001b[0m: operands could not be broadcast together with shapes (3,) (4,) "
     ]
    }
   ],
   "source": [
    "np.array([1, 2, 3]) + np.array([1, 2, 3, 4])"
   ]
  },
  {
   "cell_type": "markdown",
   "metadata": {},
   "source": [
    "## `numpy`'s mathematical and statistical functions\n",
    "\n",
    "`numpy` includes implementations of many common functions that can work on arrays.  For example, trigonometric functions"
   ]
  },
  {
   "cell_type": "code",
   "execution_count": 45,
   "metadata": {},
   "outputs": [
    {
     "data": {
      "text/plain": [
       "array([0.5       , 0.70710678, 1.        ])"
      ]
     },
     "execution_count": 45,
     "metadata": {},
     "output_type": "execute_result"
    }
   ],
   "source": [
    "np.sin(\n",
    "    np.array([np.pi/6, np.pi/4, np.pi/2])\n",
    ")"
   ]
  },
  {
   "cell_type": "markdown",
   "metadata": {},
   "source": [
    "The `np.sin()` function and others like it operate element-wise.\n",
    "\n",
    "There's also statistical functions, including:\n",
    "\n",
    "- `np.mean()`\n",
    "- `np.median()`\n",
    "- `np.std()` (standard deviation)\n",
    "\n",
    "These functions _don't_ operate element-wise (which wouldn't really make sense).  For example:"
   ]
  },
  {
   "cell_type": "code",
   "execution_count": 46,
   "metadata": {},
   "outputs": [
    {
     "data": {
      "text/plain": [
       "2.0"
      ]
     },
     "execution_count": 46,
     "metadata": {},
     "output_type": "execute_result"
    }
   ],
   "source": [
    "np.median(np.array([1, 2, 3]))"
   ]
  },
  {
   "cell_type": "markdown",
   "metadata": {},
   "source": [
    "You'll have to be more thoughtful, however, when using these functions on a multi-dimensional array.  See the exercises for this!  Look [here](https://numpy.org/doc/stable/reference/routines.statistics.html) for the list of built-in statistical functions."
   ]
  },
  {
   "cell_type": "markdown",
   "metadata": {},
   "source": [
    "## Exercises"
   ]
  },
  {
   "cell_type": "markdown",
   "metadata": {},
   "source": [
    "Let's redo some exercises from the introduction, but now using `numpy` functions!  Here's the `weekly_avg` array we used in those exercsises, this time computed with a `numpy` function.  (The `np.nanmean()` function computes the mean, but ignoes `nan` values, just like Excel ignores blank cells.)\n",
    "\n",
    "Make sure you've executed the cell that includes the definition of the `responses` variable above."
   ]
  },
  {
   "cell_type": "code",
   "execution_count": 56,
   "metadata": {},
   "outputs": [
    {
     "data": {
      "text/plain": [
       "array([3.73913043, 4.56521739, 3.95652174, 3.77272727, 3.26086957,\n",
       "       3.6       , 3.7       , 3.95454545, 3.72727273, 3.95454545,\n",
       "       3.57142857, 4.16666667])"
      ]
     },
     "execution_count": 56,
     "metadata": {},
     "output_type": "execute_result"
    }
   ],
   "source": [
    "weekly_avg = np.nanmean(responses, axis=0)\n",
    "weekly_avg"
   ]
  },
  {
   "cell_type": "markdown",
   "metadata": {},
   "source": [
    "### Exercise 1\n",
    "\n",
    "Use your search engine of choice to find the `numpy` function to compute the sum of all the values in the `weekly_avg` array.  Test it out here:"
   ]
  },
  {
   "cell_type": "code",
   "execution_count": 57,
   "metadata": {},
   "outputs": [],
   "source": [
    "# Your code here."
   ]
  },
  {
   "cell_type": "markdown",
   "metadata": {},
   "source": [
    "The answer is just under `46`."
   ]
  },
  {
   "cell_type": "markdown",
   "metadata": {},
   "source": [
    "### Exercise 2\n",
    "\n",
    "Use a `numpy` function to compute the overall average of the `weekly_avg` array.  The answer is around `3.8`."
   ]
  },
  {
   "cell_type": "code",
   "execution_count": 58,
   "metadata": {},
   "outputs": [],
   "source": [
    "# Your code here."
   ]
  },
  {
   "cell_type": "markdown",
   "metadata": {},
   "source": [
    "### Exercise 3\n",
    "\n",
    "Use `numpy` to calculate the standard deviation of the `weekly_avg` array.  The answer is about `0.31`"
   ]
  },
  {
   "cell_type": "code",
   "execution_count": 59,
   "metadata": {},
   "outputs": [],
   "source": [
    "# Your code here."
   ]
  },
  {
   "cell_type": "markdown",
   "metadata": {},
   "source": [
    "### Exercise 4\n",
    "\n",
    "Use `numpy` to produce a array that holds the sum of each row in the `responses` array.  You can do this with a for loop, but you can also do this with one numpy function.  What happens with the `nan` values?  You're totally welcome to look up the answer—just make sure you totally understand the code you find before you use it!\n",
    "\n",
    "The answer is:\n",
    "\n",
    "```\n",
    "array([36,  37,  65,  72,  82,  63,  52,  38,  15,\n",
    "       20,  44,  55,  51,  30,  30,  28,  64,  36,\n",
    "       45,  31,  28,  13,  42,   0,  25,   8])\n",
    "```"
   ]
  },
  {
   "cell_type": "code",
   "execution_count": 93,
   "metadata": {},
   "outputs": [
    {
     "data": {
      "text/plain": [
       "array([36., 37., 65., 72., 82., 63., 52., 38., 15., 20., 44., 55., 51.,\n",
       "       30., 30., 28., 64., 36., 45., 31., 28., 13., 42.,  0., 25.,  8.])"
      ]
     },
     "execution_count": 93,
     "metadata": {},
     "output_type": "execute_result"
    }
   ],
   "source": [
    "# Your code here.\n",
    "np.nansum(responses, axis=1)"
   ]
  },
  {
   "cell_type": "markdown",
   "metadata": {},
   "source": [
    "### Exercise 5\n",
    "\n",
    "Compute the per-student averages (that is, the averages of the rows in the `responses` array).  Again, you can do this with one numpy function, and you have to attend to the `nan` values.\n",
    "\n",
    "The answer is:\n",
    "\n",
    "```\n",
    "array([3, 3.08333333, 5.41666667, 6, 6.83333333,\n",
    " 5.25, 4.33333333, 3.16666667, 1.25, 1.66666667,\n",
    " 3.66666667,  5, 4.63636364, 2.72727273, 2.72727273,\n",
    " 2.54545455, 5.81818182, 3.6, 5, 3.44444444,\n",
    " 3.11111111, 1.44444444, 6, 0, 4.16666667,\n",
    " 8])\n",
    "```"
   ]
  },
  {
   "cell_type": "code",
   "execution_count": 92,
   "metadata": {},
   "outputs": [],
   "source": [
    "# Replace the None with your answer\n",
    "averages = None"
   ]
  },
  {
   "cell_type": "markdown",
   "metadata": {},
   "source": [
    "For fun, execute the next cell to create a plot of the averages!"
   ]
  },
  {
   "cell_type": "code",
   "execution_count": 74,
   "metadata": {},
   "outputs": [],
   "source": [
    "from matplotlib import pyplot as plt\n",
    "\n",
    "plt.plot(averages)"
   ]
  },
  {
   "cell_type": "markdown",
   "metadata": {},
   "source": [
    "### Exercise 6\n",
    "\n",
    "The `np.linspace()` function behaves as follows:"
   ]
  },
  {
   "cell_type": "code",
   "execution_count": 78,
   "metadata": {},
   "outputs": [
    {
     "data": {
      "text/plain": [
       "array([0., 1.])"
      ]
     },
     "execution_count": 78,
     "metadata": {},
     "output_type": "execute_result"
    }
   ],
   "source": [
    "np.linspace(0, 1, 2)"
   ]
  },
  {
   "cell_type": "code",
   "execution_count": 79,
   "metadata": {},
   "outputs": [
    {
     "data": {
      "text/plain": [
       "array([0. , 0.5, 1. ])"
      ]
     },
     "execution_count": 79,
     "metadata": {},
     "output_type": "execute_result"
    }
   ],
   "source": [
    "np.linspace(0, 1, 3)"
   ]
  },
  {
   "cell_type": "code",
   "execution_count": 82,
   "metadata": {},
   "outputs": [
    {
     "data": {
      "text/plain": [
       "array([0. , 0.1, 0.2, 0.3, 0.4, 0.5, 0.6, 0.7, 0.8, 0.9, 1. ])"
      ]
     },
     "execution_count": 82,
     "metadata": {},
     "output_type": "execute_result"
    }
   ],
   "source": [
    "np.linspace(0, 1, 11)"
   ]
  },
  {
   "cell_type": "code",
   "execution_count": 84,
   "metadata": {},
   "outputs": [
    {
     "data": {
      "text/plain": [
       "array([1., 2., 3., 4.])"
      ]
     },
     "execution_count": 84,
     "metadata": {},
     "output_type": "execute_result"
    }
   ],
   "source": [
    "np.linspace(1, 4, 4)"
   ]
  },
  {
   "cell_type": "markdown",
   "metadata": {},
   "source": [
    "Use `np.linspace()` and `np.sin()` to plot $\\sin(x)$ on $[0, 2\\pi]$.  (`np.pi` holds the value of $\\pi$.)"
   ]
  },
  {
   "cell_type": "code",
   "execution_count": 90,
   "metadata": {},
   "outputs": [],
   "source": [
    "# Do what you need to do to set this variable correctly\n",
    "thing_to_plot = None\n",
    "\n",
    "plt.plot(thing_to_plot)"
   ]
  },
  {
   "cell_type": "code",
   "execution_count": null,
   "metadata": {},
   "outputs": [],
   "source": []
  }
 ],
 "metadata": {
  "kernelspec": {
   "display_name": "Python 3",
   "language": "python",
   "name": "python3"
  },
  "language_info": {
   "codemirror_mode": {
    "name": "ipython",
    "version": 3
   },
   "file_extension": ".py",
   "mimetype": "text/x-python",
   "name": "python",
   "nbconvert_exporter": "python",
   "pygments_lexer": "ipython3",
   "version": "3.7.4"
  }
 },
 "nbformat": 4,
 "nbformat_minor": 2
}
